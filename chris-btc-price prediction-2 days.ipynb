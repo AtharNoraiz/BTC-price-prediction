{
 "cells": [
  {
   "cell_type": "code",
   "execution_count": 1,
   "metadata": {},
   "outputs": [],
   "source": [
    "import pandas as pd\n",
    "from configparser import ConfigParser\n",
    "from sqlalchemy import create_engine\n",
    "import numpy as np"
   ]
  },
  {
   "cell_type": "code",
   "execution_count": 2,
   "metadata": {},
   "outputs": [],
   "source": [
    "def config(filename='database.ini', section='postgresql'):\n",
    "    # create a parser\n",
    "    parser = ConfigParser()\n",
    "    # read config file\n",
    "    parser.read(filename)\n",
    "\n",
    "    # get section, default to postgresql\n",
    "    db = {}\n",
    "    if parser.has_section(section):\n",
    "        params = parser.items(section)\n",
    "        for param in params:\n",
    "            db[param[0]] = param[1]\n",
    "    else:\n",
    "        raise Exception('Section {0} not found in the {1} file'.format(section, filename))\n",
    "\n",
    "    return db"
   ]
  },
  {
   "cell_type": "code",
   "execution_count": 3,
   "metadata": {},
   "outputs": [],
   "source": [
    "param_dic=config()\n",
    "\n",
    "connect = \"postgresql+psycopg2://%s:%s@%s:%s/%s\" % (\n",
    "param_dic['user'],\n",
    "param_dic['password'],\n",
    "param_dic['host'],\n",
    "param_dic['port'],\n",
    "param_dic['database']\n",
    ")\n",
    "\n",
    "engine=create_engine(connect, echo=False)\n",
    "\n",
    "connection = engine.connect()"
   ]
  },
  {
   "cell_type": "code",
   "execution_count": 4,
   "metadata": {},
   "outputs": [],
   "source": [
    "my_query=\"select timestamp,close,high,low,open,trades,turnover,volume,vwap from bitmex as bt where  bt.timestamp >= date '2018-01-01' \""
   ]
  },
  {
   "cell_type": "code",
   "execution_count": 5,
   "metadata": {},
   "outputs": [],
   "source": [
    "data= connection.execute(my_query).fetchall()"
   ]
  },
  {
   "cell_type": "code",
   "execution_count": 6,
   "metadata": {},
   "outputs": [],
   "source": [
    "df=pd.DataFrame(data,columns=['timestamp','close','high','low','open','trades','turnover','volume','vwap'])\n"
   ]
  },
  {
   "cell_type": "code",
   "execution_count": 7,
   "metadata": {},
   "outputs": [
    {
     "data": {
      "text/html": [
       "<div>\n",
       "<style scoped>\n",
       "    .dataframe tbody tr th:only-of-type {\n",
       "        vertical-align: middle;\n",
       "    }\n",
       "\n",
       "    .dataframe tbody tr th {\n",
       "        vertical-align: top;\n",
       "    }\n",
       "\n",
       "    .dataframe thead th {\n",
       "        text-align: right;\n",
       "    }\n",
       "</style>\n",
       "<table border=\"1\" class=\"dataframe\">\n",
       "  <thead>\n",
       "    <tr style=\"text-align: right;\">\n",
       "      <th></th>\n",
       "      <th>timestamp</th>\n",
       "      <th>close</th>\n",
       "      <th>high</th>\n",
       "      <th>low</th>\n",
       "      <th>open</th>\n",
       "      <th>trades</th>\n",
       "      <th>turnover</th>\n",
       "      <th>volume</th>\n",
       "      <th>vwap</th>\n",
       "    </tr>\n",
       "  </thead>\n",
       "  <tbody>\n",
       "    <tr>\n",
       "      <th>0</th>\n",
       "      <td>2018-01-01 00:00:00+05:00</td>\n",
       "      <td>13925.5</td>\n",
       "      <td>13925.5</td>\n",
       "      <td>13892.5</td>\n",
       "      <td>13909.5</td>\n",
       "      <td>93</td>\n",
       "      <td>934907830</td>\n",
       "      <td>129990</td>\n",
       "      <td>13904.3</td>\n",
       "    </tr>\n",
       "    <tr>\n",
       "      <th>1</th>\n",
       "      <td>2018-01-01 00:01:00+05:00</td>\n",
       "      <td>13914.0</td>\n",
       "      <td>13938.5</td>\n",
       "      <td>13910.0</td>\n",
       "      <td>13925.5</td>\n",
       "      <td>143</td>\n",
       "      <td>3584829106</td>\n",
       "      <td>499411</td>\n",
       "      <td>13931.5</td>\n",
       "    </tr>\n",
       "    <tr>\n",
       "      <th>2</th>\n",
       "      <td>2018-01-01 00:02:00+05:00</td>\n",
       "      <td>13960.5</td>\n",
       "      <td>13979.5</td>\n",
       "      <td>13914.0</td>\n",
       "      <td>13914.0</td>\n",
       "      <td>196</td>\n",
       "      <td>2916432935</td>\n",
       "      <td>406988</td>\n",
       "      <td>13956.7</td>\n",
       "    </tr>\n",
       "    <tr>\n",
       "      <th>3</th>\n",
       "      <td>2018-01-01 00:03:00+05:00</td>\n",
       "      <td>13972.0</td>\n",
       "      <td>13972.0</td>\n",
       "      <td>13950.0</td>\n",
       "      <td>13960.5</td>\n",
       "      <td>76</td>\n",
       "      <td>862372954</td>\n",
       "      <td>120404</td>\n",
       "      <td>13962.6</td>\n",
       "    </tr>\n",
       "    <tr>\n",
       "      <th>4</th>\n",
       "      <td>2018-01-01 00:04:00+05:00</td>\n",
       "      <td>14010.5</td>\n",
       "      <td>14011.0</td>\n",
       "      <td>13968.5</td>\n",
       "      <td>13972.0</td>\n",
       "      <td>168</td>\n",
       "      <td>4861884435</td>\n",
       "      <td>680351</td>\n",
       "      <td>13993.8</td>\n",
       "    </tr>\n",
       "  </tbody>\n",
       "</table>\n",
       "</div>"
      ],
      "text/plain": [
       "                  timestamp    close     high      low     open  trades  \\\n",
       "0 2018-01-01 00:00:00+05:00  13925.5  13925.5  13892.5  13909.5      93   \n",
       "1 2018-01-01 00:01:00+05:00  13914.0  13938.5  13910.0  13925.5     143   \n",
       "2 2018-01-01 00:02:00+05:00  13960.5  13979.5  13914.0  13914.0     196   \n",
       "3 2018-01-01 00:03:00+05:00  13972.0  13972.0  13950.0  13960.5      76   \n",
       "4 2018-01-01 00:04:00+05:00  14010.5  14011.0  13968.5  13972.0     168   \n",
       "\n",
       "     turnover  volume     vwap  \n",
       "0   934907830  129990  13904.3  \n",
       "1  3584829106  499411  13931.5  \n",
       "2  2916432935  406988  13956.7  \n",
       "3   862372954  120404  13962.6  \n",
       "4  4861884435  680351  13993.8  "
      ]
     },
     "execution_count": 7,
     "metadata": {},
     "output_type": "execute_result"
    }
   ],
   "source": [
    "df.head()"
   ]
  },
  {
   "cell_type": "code",
   "execution_count": 8,
   "metadata": {},
   "outputs": [
    {
     "data": {
      "text/plain": [
       "timestamp    0.000000\n",
       "close        0.000000\n",
       "high         0.000000\n",
       "low          0.000000\n",
       "open         0.000000\n",
       "trades       0.000000\n",
       "turnover     0.000000\n",
       "volume       0.000000\n",
       "vwap         0.000219\n",
       "dtype: float64"
      ]
     },
     "execution_count": 8,
     "metadata": {},
     "output_type": "execute_result"
    }
   ],
   "source": [
    "df.isna().sum()/df.count()"
   ]
  },
  {
   "cell_type": "code",
   "execution_count": 9,
   "metadata": {},
   "outputs": [],
   "source": [
    "df['date']=df['timestamp'].dt.date"
   ]
  },
  {
   "cell_type": "code",
   "execution_count": 10,
   "metadata": {},
   "outputs": [],
   "source": [
    "df=df.groupby('date').mean()"
   ]
  },
  {
   "cell_type": "code",
   "execution_count": 11,
   "metadata": {},
   "outputs": [],
   "source": [
    "df['vwap'].replace(0, np.nan, inplace=True)\n",
    "df['vwap'].fillna(method='ffill', inplace=True)"
   ]
  },
  {
   "cell_type": "code",
   "execution_count": 12,
   "metadata": {},
   "outputs": [
    {
     "data": {
      "text/html": [
       "<div>\n",
       "<style scoped>\n",
       "    .dataframe tbody tr th:only-of-type {\n",
       "        vertical-align: middle;\n",
       "    }\n",
       "\n",
       "    .dataframe tbody tr th {\n",
       "        vertical-align: top;\n",
       "    }\n",
       "\n",
       "    .dataframe thead th {\n",
       "        text-align: right;\n",
       "    }\n",
       "</style>\n",
       "<table border=\"1\" class=\"dataframe\">\n",
       "  <thead>\n",
       "    <tr style=\"text-align: right;\">\n",
       "      <th></th>\n",
       "      <th>close</th>\n",
       "      <th>high</th>\n",
       "      <th>low</th>\n",
       "      <th>open</th>\n",
       "      <th>trades</th>\n",
       "      <th>turnover</th>\n",
       "      <th>volume</th>\n",
       "      <th>vwap</th>\n",
       "    </tr>\n",
       "    <tr>\n",
       "      <th>date</th>\n",
       "      <th></th>\n",
       "      <th></th>\n",
       "      <th></th>\n",
       "      <th></th>\n",
       "      <th></th>\n",
       "      <th></th>\n",
       "      <th></th>\n",
       "      <th></th>\n",
       "    </tr>\n",
       "  </thead>\n",
       "  <tbody>\n",
       "    <tr>\n",
       "      <th>2018-01-01</th>\n",
       "      <td>13541.366319</td>\n",
       "      <td>13557.984028</td>\n",
       "      <td>13524.845139</td>\n",
       "      <td>13541.872917</td>\n",
       "      <td>151.901389</td>\n",
       "      <td>3.191650e+09</td>\n",
       "      <td>430376.524306</td>\n",
       "      <td>13542.399306</td>\n",
       "    </tr>\n",
       "    <tr>\n",
       "      <th>2018-01-02</th>\n",
       "      <td>13618.049306</td>\n",
       "      <td>13632.106597</td>\n",
       "      <td>13602.637153</td>\n",
       "      <td>13616.986458</td>\n",
       "      <td>173.356250</td>\n",
       "      <td>3.991163e+09</td>\n",
       "      <td>547527.584028</td>\n",
       "      <td>13618.215833</td>\n",
       "    </tr>\n",
       "    <tr>\n",
       "      <th>2018-01-03</th>\n",
       "      <td>14993.412500</td>\n",
       "      <td>15009.243750</td>\n",
       "      <td>14977.330556</td>\n",
       "      <td>14993.340278</td>\n",
       "      <td>188.893056</td>\n",
       "      <td>4.238429e+09</td>\n",
       "      <td>635719.903472</td>\n",
       "      <td>14994.467292</td>\n",
       "    </tr>\n",
       "    <tr>\n",
       "      <th>2018-01-04</th>\n",
       "      <td>14846.844444</td>\n",
       "      <td>14859.795139</td>\n",
       "      <td>14833.456944</td>\n",
       "      <td>14846.855556</td>\n",
       "      <td>158.861806</td>\n",
       "      <td>3.806899e+09</td>\n",
       "      <td>564605.880556</td>\n",
       "      <td>14847.653750</td>\n",
       "    </tr>\n",
       "    <tr>\n",
       "      <th>2018-01-05</th>\n",
       "      <td>15463.361806</td>\n",
       "      <td>15476.509722</td>\n",
       "      <td>15449.327083</td>\n",
       "      <td>15462.259028</td>\n",
       "      <td>164.459028</td>\n",
       "      <td>3.995719e+09</td>\n",
       "      <td>624329.748611</td>\n",
       "      <td>15464.094653</td>\n",
       "    </tr>\n",
       "  </tbody>\n",
       "</table>\n",
       "</div>"
      ],
      "text/plain": [
       "                   close          high           low          open  \\\n",
       "date                                                                 \n",
       "2018-01-01  13541.366319  13557.984028  13524.845139  13541.872917   \n",
       "2018-01-02  13618.049306  13632.106597  13602.637153  13616.986458   \n",
       "2018-01-03  14993.412500  15009.243750  14977.330556  14993.340278   \n",
       "2018-01-04  14846.844444  14859.795139  14833.456944  14846.855556   \n",
       "2018-01-05  15463.361806  15476.509722  15449.327083  15462.259028   \n",
       "\n",
       "                trades      turnover         volume          vwap  \n",
       "date                                                               \n",
       "2018-01-01  151.901389  3.191650e+09  430376.524306  13542.399306  \n",
       "2018-01-02  173.356250  3.991163e+09  547527.584028  13618.215833  \n",
       "2018-01-03  188.893056  4.238429e+09  635719.903472  14994.467292  \n",
       "2018-01-04  158.861806  3.806899e+09  564605.880556  14847.653750  \n",
       "2018-01-05  164.459028  3.995719e+09  624329.748611  15464.094653  "
      ]
     },
     "execution_count": 12,
     "metadata": {},
     "output_type": "execute_result"
    }
   ],
   "source": [
    "df.head()"
   ]
  },
  {
   "cell_type": "code",
   "execution_count": 179,
   "metadata": {},
   "outputs": [
    {
     "data": {
      "text/plain": [
       "(1016, 8)"
      ]
     },
     "execution_count": 179,
     "metadata": {},
     "output_type": "execute_result"
    }
   ],
   "source": [
    "df.shape"
   ]
  },
  {
   "cell_type": "code",
   "execution_count": 58,
   "metadata": {},
   "outputs": [],
   "source": [
    "import numpy\n",
    "from numpy import array\n",
    "import matplotlib.pyplot as plt\n",
    "from pandas import read_csv\n",
    "import math\n",
    "from keras.models import Sequential\n",
    "from keras.layers import Dense\n",
    "from keras.layers import LSTM,GRU\n",
    "from sklearn.preprocessing import MinMaxScaler,RobustScaler,StandardScaler\n",
    "from sklearn.metrics import mean_squared_error\n",
    "from pandas import Series"
   ]
  },
  {
   "cell_type": "code",
   "execution_count": 59,
   "metadata": {},
   "outputs": [],
   "source": [
    "data=df['vwap']"
   ]
  },
  {
   "cell_type": "code",
   "execution_count": 60,
   "metadata": {},
   "outputs": [],
   "source": [
    "def split_sequence(sequence, n_steps_in, n_steps_out):\n",
    "\tX, y = list(), list()\n",
    "\tfor i in range(len(sequence)):\n",
    "\t\t# find the end of this pattern\n",
    "\t\tend_ix = i + n_steps_in\n",
    "\t\tout_end_ix = end_ix + n_steps_out\n",
    "\t\t# check if we are beyond the sequence\n",
    "\t\tif out_end_ix > len(sequence):\n",
    "\t\t\tbreak\n",
    "\t\t# gather input and output parts of the pattern\n",
    "\t\tseq_x, seq_y = sequence[i:end_ix], sequence[end_ix:out_end_ix]\n",
    "\t\tX.append(seq_x)\n",
    "\t\ty.append(seq_y)\n",
    "\treturn array(X), array(y)"
   ]
  },
  {
   "cell_type": "code",
   "execution_count": 406,
   "metadata": {},
   "outputs": [],
   "source": [
    "np.random.seed(0)\n",
    "\n",
    "# load the dataset\n",
    "dataframe = data\n",
    "dataset = dataframe.values\n",
    "dataset = dataset.astype('float64').reshape(-1, 1)\n",
    "\n",
    "# normalize the dataset\n",
    "scaler = MinMaxScaler()\n",
    "#scaler=RobustScaler()\n",
    "#scaler=StandardScaler()\n",
    "dataset = scaler.fit_transform(dataset)\n",
    "\n",
    "# split into train and test sets\n",
    "train_size = int(len(dataset) * 0.80)\n",
    "test_size = len(dataset) - train_size\n",
    "train, test = dataset[0:train_size,:], dataset[train_size:len(dataset),:]\n",
    "\n",
    "n_steps_in=4\n",
    "n_steps_out=2\n",
    "trainX, trainY =split_sequence(train.flatten(), n_steps_in, n_steps_out)\n",
    "testX, testY = split_sequence(test.flatten(), n_steps_in, n_steps_out)\n"
   ]
  },
  {
   "cell_type": "code",
   "execution_count": 407,
   "metadata": {},
   "outputs": [
    {
     "name": "stdout",
     "output_type": "stream",
     "text": [
      "[0.2090932  0.25132701 0.25853915 0.25689978] [0.26059924 0.2314157 ]\n",
      "[0.25132701 0.25853915 0.25689978 0.26059924] [0.2314157 0.2208145]\n",
      "[0.25853915 0.25689978 0.26059924 0.2314157 ] [0.2208145  0.22023036]\n",
      "[0.25689978 0.26059924 0.2314157  0.2208145 ] [0.22023036 0.2418212 ]\n",
      "[0.26059924 0.2314157  0.2208145  0.22023036] [0.2418212  0.23203216]\n",
      "[0.2314157  0.2208145  0.22023036 0.2418212 ] [0.23203216 0.25593777]\n",
      "[0.2208145  0.22023036 0.2418212  0.23203216] [0.25593777 0.26905699]\n",
      "[0.22023036 0.2418212  0.23203216 0.25593777] [0.26905699 0.26420977]\n",
      "[0.2418212  0.23203216 0.25593777 0.26905699] [0.26420977 0.26809965]\n",
      "[0.23203216 0.25593777 0.26905699 0.26420977] [0.26809965 0.28152319]\n"
     ]
    }
   ],
   "source": [
    "for i in range(10):\n",
    "    print(testX[i], testY[i])"
   ]
  },
  {
   "cell_type": "code",
   "execution_count": 408,
   "metadata": {},
   "outputs": [],
   "source": [
    "n_features = 1\n",
    "trainX = trainX.reshape((trainX.shape[0], trainX.shape[1], n_features))\n",
    "testX = testX.reshape((testX.shape[0], testX.shape[1], n_features))"
   ]
  },
  {
   "cell_type": "code",
   "execution_count": 409,
   "metadata": {},
   "outputs": [],
   "source": [
    "from keras.layers import Activation, Dense,Dropout\n",
    "model = Sequential()\n",
    "\n",
    "model.add(LSTM(15, return_sequences=True,input_shape=(n_steps_in, n_features)))\n",
    "#model.add(Dropout(0.2))\n",
    "#model.add(LSTM(100, return_sequences=True))\n",
    "#model.add(Dropout(0.2))\n",
    "model.add(LSTM(15))\n",
    "#model.add(Dropout(0.2))\n",
    "model.add(Dense(n_steps_out))\n",
    "import keras\n",
    "from keras import optimizers\n",
    "\n",
    "#keras.optimizers.Adam(lr=0.01, beta_1=0.9, beta_2=0.999, epsilon=None, decay=0.0, amsgrad=False, clipnorm=1)\n",
    "\n",
    "model.compile(loss='mean_squared_error', optimizer='adam')\n",
    "history=model.fit(trainX, trainY, epochs=300, batch_size=50, validation_data=(testX, testY), verbose=0, shuffle=False)\n"
   ]
  },
  {
   "cell_type": "code",
   "execution_count": 410,
   "metadata": {},
   "outputs": [
    {
     "data": {
      "image/png": "[encoded data removed]",
      "text/plain": [
       "<Figure size 1440x720 with 1 Axes>"
      ]
     },
     "metadata": {
      "needs_background": "light"
     },
     "output_type": "display_data"
    }
   ],
   "source": [
    "plt.rc('figure', figsize=(20, 10))\n",
    "plt.plot(history.history['loss'], label='train')\n",
    "plt.plot(history.history['val_loss'], label='test')\n",
    "plt.legend(prop={'size': 20})\n",
    "plt.show()"
   ]
  },
  {
   "cell_type": "code",
   "execution_count": 411,
   "metadata": {},
   "outputs": [],
   "source": [
    "# make predictions\n",
    "trainPredict = model.predict(trainX)\n",
    "\n"
   ]
  },
  {
   "cell_type": "code",
   "execution_count": 412,
   "metadata": {},
   "outputs": [],
   "source": [
    "testPredict = model.predict(testX)"
   ]
  },
  {
   "cell_type": "code",
   "execution_count": 413,
   "metadata": {},
   "outputs": [],
   "source": [
    "# invert predictions\n",
    "trainPredict = scaler.inverse_transform(trainPredict)\n",
    "trainY = scaler.inverse_transform(trainY)\n",
    "testPredict = scaler.inverse_transform(testPredict)\n",
    "testY = scaler.inverse_transform(testY)\n"
   ]
  },
  {
   "cell_type": "code",
   "execution_count": 414,
   "metadata": {},
   "outputs": [
    {
     "name": "stdout",
     "output_type": "stream",
     "text": [
      "Train Score: 418.19 RMSE\n",
      "Test Score: 290.49 RMSE\n"
     ]
    }
   ],
   "source": [
    "# calculate root mean squared error\n",
    "trainScore = math.sqrt(mean_squared_error(trainY, trainPredict))\n",
    "print('Train Score: %.2f RMSE' % (trainScore))\n",
    "testScore = math.sqrt(mean_squared_error(testY, testPredict))\n",
    "print('Test Score: %.2f RMSE' % (testScore))\n"
   ]
  },
  {
   "cell_type": "code",
   "execution_count": null,
   "metadata": {},
   "outputs": [],
   "source": []
  },
  {
   "cell_type": "code",
   "execution_count": null,
   "metadata": {},
   "outputs": [],
   "source": []
  }
 ],
 "metadata": {
  "kernelspec": {
   "display_name": "Python 3",
   "language": "python",
   "name": "python3"
  },
  "language_info": {
   "codemirror_mode": {
    "name": "ipython",
    "version": 3
   },
   "file_extension": ".py",
   "mimetype": "text/x-python",
   "name": "python",
   "nbconvert_exporter": "python",
   "pygments_lexer": "ipython3",
   "version": "3.8.3"
  }
 },
 "nbformat": 4,
 "nbformat_minor": 4
}
