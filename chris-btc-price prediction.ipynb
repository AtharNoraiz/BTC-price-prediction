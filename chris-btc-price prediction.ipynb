{
 "cells": [
  {
   "cell_type": "code",
   "execution_count": 14,
   "metadata": {},
   "outputs": [],
   "source": [
    "import pandas as pd\n",
    "import numpy as np\n",
    "from configparser import ConfigParser\n",
    "from sqlalchemy import create_engine"
   ]
  },
  {
   "cell_type": "code",
   "execution_count": 15,
   "metadata": {},
   "outputs": [],
   "source": [
    "def config(filename='database.ini', section='postgresql'):\n",
    "    # create a parser\n",
    "    parser = ConfigParser()\n",
    "    # read config file\n",
    "    parser.read(filename)\n",
    "\n",
    "    # get section, default to postgresql\n",
    "    db = {}\n",
    "    if parser.has_section(section):\n",
    "        params = parser.items(section)\n",
    "        for param in params:\n",
    "            db[param[0]] = param[1]\n",
    "    else:\n",
    "        raise Exception('Section {0} not found in the {1} file'.format(section, filename))\n",
    "\n",
    "    return db"
   ]
  },
  {
   "cell_type": "code",
   "execution_count": 16,
   "metadata": {},
   "outputs": [],
   "source": [
    "param_dic=config()\n",
    "\n",
    "connect = \"postgresql+psycopg2://%s:%s@%s:%s/%s\" % (\n",
    "param_dic['user'],\n",
    "param_dic['password'],\n",
    "param_dic['host'],\n",
    "param_dic['port'],\n",
    "param_dic['database']\n",
    ")\n",
    "\n",
    "engine=create_engine(connect, echo=False)\n",
    "\n",
    "connection = engine.connect()"
   ]
  },
  {
   "cell_type": "code",
   "execution_count": 17,
   "metadata": {},
   "outputs": [],
   "source": [
    "my_query= \"select timestamp,close,high,low,open,trades,turnover,volume,vwap from bitmex as bt where  bt.timestamp >= date '2018-01-01' \""
   ]
  },
  {
   "cell_type": "code",
   "execution_count": 20,
   "metadata": {},
   "outputs": [],
   "source": [
    "data= connection.execute(my_query).fetchall()"
   ]
  },
  {
   "cell_type": "code",
   "execution_count": 21,
   "metadata": {},
   "outputs": [],
   "source": [
    "df=pd.DataFrame(data,columns=['timestamp','close','high','low','open','trades','turnover','volume','vwap'])\n"
   ]
  },
  {
   "cell_type": "code",
   "execution_count": 22,
   "metadata": {},
   "outputs": [
    {
     "data": {
      "text/plain": [
       "(1489997, 9)"
      ]
     },
     "execution_count": 22,
     "metadata": {},
     "output_type": "execute_result"
    }
   ],
   "source": [
    "df.shape"
   ]
  },
  {
   "cell_type": "code",
   "execution_count": 23,
   "metadata": {},
   "outputs": [
    {
     "name": "stdout",
     "output_type": "stream",
     "text": [
      "<class 'pandas.core.frame.DataFrame'>\n",
      "RangeIndex: 1489997 entries, 0 to 1489996\n",
      "Data columns (total 9 columns):\n",
      "timestamp    1489997 non-null datetime64[ns, psycopg2.tz.FixedOffsetTimezone(offset=300, name=None)]\n",
      "close        1489997 non-null float64\n",
      "high         1489997 non-null float64\n",
      "low          1489997 non-null float64\n",
      "open         1489997 non-null float64\n",
      "trades       1489997 non-null int64\n",
      "turnover     1489997 non-null int64\n",
      "volume       1489997 non-null int64\n",
      "vwap         1489671 non-null float64\n",
      "dtypes: datetime64[ns, psycopg2.tz.FixedOffsetTimezone(offset=300, name=None)](1), float64(5), int64(3)\n",
      "memory usage: 102.3 MB\n"
     ]
    }
   ],
   "source": [
    "df.info(verbose=True)"
   ]
  },
  {
   "cell_type": "code",
   "execution_count": 24,
   "metadata": {},
   "outputs": [
    {
     "data": {
      "text/html": [
       "<div>\n",
       "<style scoped>\n",
       "    .dataframe tbody tr th:only-of-type {\n",
       "        vertical-align: middle;\n",
       "    }\n",
       "\n",
       "    .dataframe tbody tr th {\n",
       "        vertical-align: top;\n",
       "    }\n",
       "\n",
       "    .dataframe thead th {\n",
       "        text-align: right;\n",
       "    }\n",
       "</style>\n",
       "<table border=\"1\" class=\"dataframe\">\n",
       "  <thead>\n",
       "    <tr style=\"text-align: right;\">\n",
       "      <th></th>\n",
       "      <th>timestamp</th>\n",
       "      <th>close</th>\n",
       "      <th>high</th>\n",
       "      <th>low</th>\n",
       "      <th>open</th>\n",
       "      <th>trades</th>\n",
       "      <th>turnover</th>\n",
       "      <th>volume</th>\n",
       "      <th>vwap</th>\n",
       "    </tr>\n",
       "  </thead>\n",
       "  <tbody>\n",
       "    <tr>\n",
       "      <th>0</th>\n",
       "      <td>2018-01-01 00:00:00+05:00</td>\n",
       "      <td>13925.5</td>\n",
       "      <td>13925.5</td>\n",
       "      <td>13892.5</td>\n",
       "      <td>13909.5</td>\n",
       "      <td>93</td>\n",
       "      <td>934907830</td>\n",
       "      <td>129990</td>\n",
       "      <td>13904.3</td>\n",
       "    </tr>\n",
       "    <tr>\n",
       "      <th>1</th>\n",
       "      <td>2018-01-01 00:01:00+05:00</td>\n",
       "      <td>13914.0</td>\n",
       "      <td>13938.5</td>\n",
       "      <td>13910.0</td>\n",
       "      <td>13925.5</td>\n",
       "      <td>143</td>\n",
       "      <td>3584829106</td>\n",
       "      <td>499411</td>\n",
       "      <td>13931.5</td>\n",
       "    </tr>\n",
       "    <tr>\n",
       "      <th>2</th>\n",
       "      <td>2018-01-01 00:02:00+05:00</td>\n",
       "      <td>13960.5</td>\n",
       "      <td>13979.5</td>\n",
       "      <td>13914.0</td>\n",
       "      <td>13914.0</td>\n",
       "      <td>196</td>\n",
       "      <td>2916432935</td>\n",
       "      <td>406988</td>\n",
       "      <td>13956.7</td>\n",
       "    </tr>\n",
       "    <tr>\n",
       "      <th>3</th>\n",
       "      <td>2018-01-01 00:03:00+05:00</td>\n",
       "      <td>13972.0</td>\n",
       "      <td>13972.0</td>\n",
       "      <td>13950.0</td>\n",
       "      <td>13960.5</td>\n",
       "      <td>76</td>\n",
       "      <td>862372954</td>\n",
       "      <td>120404</td>\n",
       "      <td>13962.6</td>\n",
       "    </tr>\n",
       "    <tr>\n",
       "      <th>4</th>\n",
       "      <td>2018-01-01 00:04:00+05:00</td>\n",
       "      <td>14010.5</td>\n",
       "      <td>14011.0</td>\n",
       "      <td>13968.5</td>\n",
       "      <td>13972.0</td>\n",
       "      <td>168</td>\n",
       "      <td>4861884435</td>\n",
       "      <td>680351</td>\n",
       "      <td>13993.8</td>\n",
       "    </tr>\n",
       "  </tbody>\n",
       "</table>\n",
       "</div>"
      ],
      "text/plain": [
       "                  timestamp    close     high      low     open  trades  \\\n",
       "0 2018-01-01 00:00:00+05:00  13925.5  13925.5  13892.5  13909.5      93   \n",
       "1 2018-01-01 00:01:00+05:00  13914.0  13938.5  13910.0  13925.5     143   \n",
       "2 2018-01-01 00:02:00+05:00  13960.5  13979.5  13914.0  13914.0     196   \n",
       "3 2018-01-01 00:03:00+05:00  13972.0  13972.0  13950.0  13960.5      76   \n",
       "4 2018-01-01 00:04:00+05:00  14010.5  14011.0  13968.5  13972.0     168   \n",
       "\n",
       "     turnover  volume     vwap  \n",
       "0   934907830  129990  13904.3  \n",
       "1  3584829106  499411  13931.5  \n",
       "2  2916432935  406988  13956.7  \n",
       "3   862372954  120404  13962.6  \n",
       "4  4861884435  680351  13993.8  "
      ]
     },
     "execution_count": 24,
     "metadata": {},
     "output_type": "execute_result"
    }
   ],
   "source": [
    "df.head()"
   ]
  },
  {
   "cell_type": "code",
   "execution_count": 25,
   "metadata": {},
   "outputs": [],
   "source": [
    "df['date']=df['timestamp'].dt.date"
   ]
  },
  {
   "cell_type": "code",
   "execution_count": 26,
   "metadata": {},
   "outputs": [],
   "source": [
    "df=df.groupby('date').mean()"
   ]
  },
  {
   "cell_type": "code",
   "execution_count": 27,
   "metadata": {},
   "outputs": [
    {
     "data": {
      "text/html": [
       "<div>\n",
       "<style scoped>\n",
       "    .dataframe tbody tr th:only-of-type {\n",
       "        vertical-align: middle;\n",
       "    }\n",
       "\n",
       "    .dataframe tbody tr th {\n",
       "        vertical-align: top;\n",
       "    }\n",
       "\n",
       "    .dataframe thead th {\n",
       "        text-align: right;\n",
       "    }\n",
       "</style>\n",
       "<table border=\"1\" class=\"dataframe\">\n",
       "  <thead>\n",
       "    <tr style=\"text-align: right;\">\n",
       "      <th></th>\n",
       "      <th>close</th>\n",
       "      <th>high</th>\n",
       "      <th>low</th>\n",
       "      <th>open</th>\n",
       "      <th>trades</th>\n",
       "      <th>turnover</th>\n",
       "      <th>volume</th>\n",
       "      <th>vwap</th>\n",
       "    </tr>\n",
       "    <tr>\n",
       "      <th>date</th>\n",
       "      <th></th>\n",
       "      <th></th>\n",
       "      <th></th>\n",
       "      <th></th>\n",
       "      <th></th>\n",
       "      <th></th>\n",
       "      <th></th>\n",
       "      <th></th>\n",
       "    </tr>\n",
       "  </thead>\n",
       "  <tbody>\n",
       "    <tr>\n",
       "      <th>2018-01-01</th>\n",
       "      <td>13541.366319</td>\n",
       "      <td>13557.984028</td>\n",
       "      <td>13524.845139</td>\n",
       "      <td>13541.872917</td>\n",
       "      <td>151.901389</td>\n",
       "      <td>3.191650e+09</td>\n",
       "      <td>430376.524306</td>\n",
       "      <td>13542.399306</td>\n",
       "    </tr>\n",
       "    <tr>\n",
       "      <th>2018-01-02</th>\n",
       "      <td>13618.049306</td>\n",
       "      <td>13632.106597</td>\n",
       "      <td>13602.637153</td>\n",
       "      <td>13616.986458</td>\n",
       "      <td>173.356250</td>\n",
       "      <td>3.991163e+09</td>\n",
       "      <td>547527.584028</td>\n",
       "      <td>13618.215833</td>\n",
       "    </tr>\n",
       "    <tr>\n",
       "      <th>2018-01-03</th>\n",
       "      <td>14993.412500</td>\n",
       "      <td>15009.243750</td>\n",
       "      <td>14977.330556</td>\n",
       "      <td>14993.340278</td>\n",
       "      <td>188.893056</td>\n",
       "      <td>4.238429e+09</td>\n",
       "      <td>635719.903472</td>\n",
       "      <td>14994.467292</td>\n",
       "    </tr>\n",
       "    <tr>\n",
       "      <th>2018-01-04</th>\n",
       "      <td>14846.844444</td>\n",
       "      <td>14859.795139</td>\n",
       "      <td>14833.456944</td>\n",
       "      <td>14846.855556</td>\n",
       "      <td>158.861806</td>\n",
       "      <td>3.806899e+09</td>\n",
       "      <td>564605.880556</td>\n",
       "      <td>14847.653750</td>\n",
       "    </tr>\n",
       "    <tr>\n",
       "      <th>2018-01-05</th>\n",
       "      <td>15463.361806</td>\n",
       "      <td>15476.509722</td>\n",
       "      <td>15449.327083</td>\n",
       "      <td>15462.259028</td>\n",
       "      <td>164.459028</td>\n",
       "      <td>3.995719e+09</td>\n",
       "      <td>624329.748611</td>\n",
       "      <td>15464.094653</td>\n",
       "    </tr>\n",
       "  </tbody>\n",
       "</table>\n",
       "</div>"
      ],
      "text/plain": [
       "                   close          high           low          open  \\\n",
       "date                                                                 \n",
       "2018-01-01  13541.366319  13557.984028  13524.845139  13541.872917   \n",
       "2018-01-02  13618.049306  13632.106597  13602.637153  13616.986458   \n",
       "2018-01-03  14993.412500  15009.243750  14977.330556  14993.340278   \n",
       "2018-01-04  14846.844444  14859.795139  14833.456944  14846.855556   \n",
       "2018-01-05  15463.361806  15476.509722  15449.327083  15462.259028   \n",
       "\n",
       "                trades      turnover         volume          vwap  \n",
       "date                                                               \n",
       "2018-01-01  151.901389  3.191650e+09  430376.524306  13542.399306  \n",
       "2018-01-02  173.356250  3.991163e+09  547527.584028  13618.215833  \n",
       "2018-01-03  188.893056  4.238429e+09  635719.903472  14994.467292  \n",
       "2018-01-04  158.861806  3.806899e+09  564605.880556  14847.653750  \n",
       "2018-01-05  164.459028  3.995719e+09  624329.748611  15464.094653  "
      ]
     },
     "execution_count": 27,
     "metadata": {},
     "output_type": "execute_result"
    }
   ],
   "source": [
    "df.head()"
   ]
  },
  {
   "cell_type": "code",
   "execution_count": 28,
   "metadata": {},
   "outputs": [],
   "source": [
    "df['vwap'].replace(0, np.nan, inplace=True)\n",
    "df['vwap'].fillna(method='ffill', inplace=True)"
   ]
  },
  {
   "cell_type": "code",
   "execution_count": 70,
   "metadata": {},
   "outputs": [],
   "source": [
    "from sklearn.preprocessing import MinMaxScaler\n",
    "values = df['vwap'].values.reshape(-1,1)\n",
    "values = values.astype('float32')\n",
    "scaler = MinMaxScaler(feature_range=(0, 1))\n",
    "scaled = scaler.fit_transform(values)"
   ]
  },
  {
   "cell_type": "code",
   "execution_count": 71,
   "metadata": {},
   "outputs": [
    {
     "name": "stdout",
     "output_type": "stream",
     "text": [
      "707 303\n"
     ]
    }
   ],
   "source": [
    "train_size = int(len(scaled) * 0.7)\n",
    "test_size = len(scaled) - train_size\n",
    "train, test = scaled[0:train_size,:], scaled[train_size:len(scaled),:]\n",
    "print(len(train), len(test))"
   ]
  },
  {
   "cell_type": "code",
   "execution_count": 72,
   "metadata": {},
   "outputs": [],
   "source": [
    "def create_dataset(dataset, look_back=1):\n",
    "    dataX, dataY = [], []\n",
    "    for i in range(len(dataset) - look_back):\n",
    "        a = dataset[i:(i + look_back), 0]\n",
    "        dataX.append(a)\n",
    "        dataY.append(dataset[i + look_back, 0])\n",
    "    print(len(dataY))\n",
    "    return np.array(dataX), np.array(dataY)"
   ]
  },
  {
   "cell_type": "code",
   "execution_count": 73,
   "metadata": {},
   "outputs": [
    {
     "name": "stdout",
     "output_type": "stream",
     "text": [
      "706\n",
      "302\n"
     ]
    }
   ],
   "source": [
    "look_back = 1\n",
    "trainX, trainY = create_dataset(train, look_back)\n",
    "testX, testY = create_dataset(test, look_back)"
   ]
  },
  {
   "cell_type": "code",
   "execution_count": 74,
   "metadata": {},
   "outputs": [
    {
     "data": {
      "text/plain": [
       "1"
      ]
     },
     "execution_count": 74,
     "metadata": {},
     "output_type": "execute_result"
    }
   ],
   "source": [
    "trainX.shape[1]"
   ]
  },
  {
   "cell_type": "code",
   "execution_count": 75,
   "metadata": {},
   "outputs": [],
   "source": [
    "trainX = np.reshape(trainX, (trainX.shape[0], 1, trainX.shape[1]))\n",
    "testX = np.reshape(testX, (testX.shape[0], 1, testX.shape[1]))"
   ]
  },
  {
   "cell_type": "code",
   "execution_count": 76,
   "metadata": {},
   "outputs": [
    {
     "data": {
      "text/plain": [
       "array([0.7717697 , 0.87351507, 0.8626612 , 0.9082342 , 0.99427384,\n",
       "       0.99999994, 0.91851264, 0.86933035, 0.81818396, 0.7963609 ,\n",
       "       0.76850384, 0.8110196 , 0.7867896 , 0.7819558 , 0.7016512 ,\n",
       "       0.55962354, 0.6021012 , 0.6191176 , 0.66265965, 0.66453993,\n",
       "       0.598735  , 0.5480312 , 0.5756601 , 0.59824336, 0.582196  ,\n",
       "       0.58724123, 0.62214243, 0.60159284, 0.5661666 , 0.50315404,\n",
       "       0.48349887, 0.4020412 , 0.41386676, 0.4260226 , 0.34574246,\n",
       "       0.25856543, 0.34222662, 0.3679105 , 0.36932164, 0.40713954,\n",
       "       0.37217212, 0.39431942, 0.40468192, 0.42088985, 0.47783166,\n",
       "       0.5051595 , 0.54243463, 0.560868  , 0.56163144, 0.60820365,\n",
       "       0.5799638 , 0.53144276, 0.5028236 , 0.5055731 , 0.47393763,\n",
       "       0.48570108, 0.53926   , 0.55307066, 0.5461171 , 0.57637054,\n",
       "       0.59810567, 0.5964902 , 0.6143026 , 0.59422493, 0.5467018 ,\n",
       "       0.4894656 , 0.4281487 , 0.44883806, 0.4236722 , 0.47124773,\n",
       "       0.43994445, 0.42596072, 0.36335772, 0.37524176, 0.37088543,\n",
       "       0.33286196, 0.3729347 , 0.39484376, 0.4290831 , 0.41918427,\n",
       "       0.39518172, 0.41809595, 0.39860785, 0.3801989 , 0.35453248,\n",
       "       0.34993237, 0.3315814 , 0.2786199 , 0.280423  , 0.26883608,\n",
       "       0.27894646, 0.29953194, 0.29770505, 0.26457703, 0.25845742,\n",
       "       0.2685877 , 0.2812081 , 0.27867055, 0.26333636, 0.27186716,\n",
       "       0.29390365, 0.35265887, 0.3556    , 0.36796212, 0.36685735,\n",
       "       0.3609063 , 0.35646546, 0.370434  , 0.38365006, 0.41316617,\n",
       "       0.4211254 , 0.42221522, 0.44448364, 0.45511633, 0.42022097,\n",
       "       0.44735378, 0.44389063, 0.45707202, 0.45350313, 0.43296415,\n",
       "       0.43669915, 0.45129126, 0.4795246 , 0.49052316, 0.48128432,\n",
       "       0.45831996, 0.45266724, 0.44375175, 0.45331705, 0.41792077,\n",
       "       0.38827777, 0.3930714 , 0.39824384, 0.40749872, 0.38004172,\n",
       "       0.37919718, 0.36205894, 0.3748191 , 0.3789134 , 0.39240402,\n",
       "       0.37841487, 0.34892392, 0.32197505, 0.32033128, 0.31786436,\n",
       "       0.3075347 , 0.303343  , 0.2998013 , 0.31666386, 0.316665  ,\n",
       "       0.318753  , 0.32372707, 0.3322612 , 0.3280866 , 0.31714833,\n",
       "       0.3276223 , 0.3328969 , 0.32973516, 0.3300401 , 0.3053586 ,\n",
       "       0.26412386, 0.26766384, 0.24484111, 0.23973374, 0.25123388,\n",
       "       0.24166103, 0.24608602, 0.24349062, 0.26125306, 0.25819677,\n",
       "       0.26306313, 0.24437855, 0.2166643 , 0.20998628, 0.22194652,\n",
       "       0.22489245, 0.2160476 , 0.2167254 , 0.2010303 , 0.23024957,\n",
       "       0.23444025, 0.23772307, 0.2532968 , 0.24929772, 0.25384587,\n",
       "       0.24734844, 0.25093532, 0.26025343, 0.26129085, 0.24924262,\n",
       "       0.23482005, 0.22767232, 0.22524948, 0.22493295, 0.23021089,\n",
       "       0.24219616, 0.2630453 , 0.31247872, 0.30979973, 0.31545866,\n",
       "       0.3069191 , 0.31497413, 0.32825166, 0.35320908, 0.37675565,\n",
       "       0.37306315, 0.35606575, 0.3708117 , 0.37149966, 0.36824954,\n",
       "       0.35667062, 0.3272953 , 0.3262102 , 0.31383747, 0.3069827 ,\n",
       "       0.28140974, 0.2833498 , 0.28241646, 0.24938558, 0.23349683,\n",
       "       0.2426555 , 0.21957718, 0.2319677 , 0.23506416, 0.21457915,\n",
       "       0.23137085, 0.23476781, 0.23980708, 0.24347018, 0.23654865,\n",
       "       0.24245928, 0.23672871, 0.25207978, 0.23871051, 0.24611093,\n",
       "       0.26031595, 0.25839293, 0.26014614, 0.27612358, 0.28707755,\n",
       "       0.2794177 , 0.27915198, 0.28773993, 0.2991116 , 0.30166638,\n",
       "       0.30526865, 0.29874402, 0.24652661, 0.24144493, 0.23873805,\n",
       "       0.22732674, 0.2302232 , 0.23006193, 0.22756322, 0.23820902,\n",
       "       0.24452399, 0.2464117 , 0.24447037, 0.24143045, 0.22892515,\n",
       "       0.23223306, 0.23802592, 0.2523777 , 0.2611856 , 0.26091164,\n",
       "       0.25708443, 0.2426493 , 0.2410865 , 0.24414255, 0.2583241 ,\n",
       "       0.24951158, 0.25181556, 0.25174773, 0.24940638, 0.24319153,\n",
       "       0.24762721, 0.24903725, 0.2500847 , 0.24828859, 0.25091565,\n",
       "       0.25280094, 0.2479452 , 0.2296124 , 0.22308849, 0.223036  ,\n",
       "       0.22475354, 0.23283161, 0.24029197, 0.24095564, 0.2409669 ,\n",
       "       0.23706351, 0.23764704, 0.24012907, 0.23895495, 0.2379724 ,\n",
       "       0.23957   , 0.23851068, 0.23839547, 0.23875345, 0.2385443 ,\n",
       "       0.23560368, 0.22829644, 0.22873421, 0.23122378, 0.23432742,\n",
       "       0.233728  , 0.23435555, 0.23932163, 0.23891453, 0.2451285 ,\n",
       "       0.24361102, 0.23744781, 0.23462398, 0.23435025, 0.23474257,\n",
       "       0.23121364, 0.22180413, 0.1709526 , 0.17376716, 0.17022203,\n",
       "       0.17304899, 0.16040872, 0.10767423, 0.09174134, 0.09584744,\n",
       "       0.08121927, 0.0801831 , 0.04298763, 0.05269857, 0.03775446,\n",
       "       0.05672006, 0.07798909, 0.06966759, 0.06292106, 0.07024066,\n",
       "       0.05931856, 0.05257921, 0.04865493, 0.0399249 , 0.01625572,\n",
       "       0.01567735, 0.01796766, 0.02372213, 0.01428695, 0.01472056,\n",
       "       0.01568259, 0.00533058, 0.        , 0.00229627, 0.00645959,\n",
       "       0.02372457, 0.03911372, 0.05043949, 0.06112279, 0.04879169,\n",
       "       0.05801861, 0.06846334, 0.04801191, 0.04393421, 0.0426995 ,\n",
       "       0.03381409, 0.05170481, 0.04564907, 0.04469566, 0.03795789,\n",
       "       0.04525195, 0.04921903, 0.04449837, 0.04790808, 0.04783173,\n",
       "       0.06294678, 0.06112944, 0.06137894, 0.0512393 , 0.03326346,\n",
       "       0.03321563, 0.03143375, 0.02699564, 0.03523387, 0.03117283,\n",
       "       0.03067376, 0.03251626, 0.0349346 , 0.03409626, 0.0262353 ,\n",
       "       0.02660443, 0.02923103, 0.02722727, 0.02802898, 0.02887471,\n",
       "       0.0271915 , 0.02094083, 0.0164571 , 0.01737262, 0.01840858,\n",
       "       0.0170732 , 0.01875518, 0.01863436, 0.0170912 , 0.0174477 ,\n",
       "       0.01503585, 0.0138645 , 0.01612709, 0.03231324, 0.03188722,\n",
       "       0.03108938, 0.02957694, 0.03014936, 0.02905639, 0.0289595 ,\n",
       "       0.02977015, 0.03005569, 0.03821586, 0.05244537, 0.05391027,\n",
       "       0.05426197, 0.05436067, 0.05642278, 0.06516145, 0.04433234,\n",
       "       0.04619779, 0.04587628, 0.04603307, 0.04633607, 0.04643913,\n",
       "       0.04616018, 0.04159082, 0.04117252, 0.04858021, 0.05005671,\n",
       "       0.05102618, 0.05184545, 0.0527405 , 0.05126719, 0.04905088,\n",
       "       0.04986639, 0.04941814, 0.05076264, 0.05776615, 0.0579748 ,\n",
       "       0.05828966, 0.05851142, 0.05978791, 0.06157251, 0.05893965,\n",
       "       0.05927886, 0.05834652, 0.0578026 , 0.05336921, 0.05860694,\n",
       "       0.0612226 , 0.06364541, 0.066752  , 0.06684421, 0.06913857,\n",
       "       0.09825276, 0.13188581, 0.13703038, 0.13121812, 0.13688593,\n",
       "       0.14278208, 0.15102868, 0.15155457, 0.15266643, 0.14836808,\n",
       "       0.13783477, 0.1405219 , 0.13961606, 0.14495774, 0.1391141 ,\n",
       "       0.15031819, 0.15308054, 0.15373342, 0.157304  , 0.1564176 ,\n",
       "       0.1562198 , 0.17077889, 0.17246781, 0.16715993, 0.14877813,\n",
       "       0.14540707, 0.14769109, 0.14588387, 0.14730202, 0.15605094,\n",
       "       0.15954433, 0.17585535, 0.18488456, 0.18774329, 0.18325268,\n",
       "       0.19596405, 0.19586597, 0.20865633, 0.2257676 , 0.25676048,\n",
       "       0.29471427, 0.298851  , 0.35780936, 0.3552984 , 0.3615296 ,\n",
       "       0.3125649 , 0.30482864, 0.3395294 , 0.35183352, 0.35229778,\n",
       "       0.35230446, 0.33310777, 0.35239142, 0.36027306, 0.35791588,\n",
       "       0.41227055, 0.41233635, 0.40524894, 0.40814865, 0.38096195,\n",
       "       0.39596838, 0.40411973, 0.399727  , 0.35823077, 0.33716804,\n",
       "       0.33887708, 0.34716195, 0.35335803, 0.34471118, 0.33829045,\n",
       "       0.34946924, 0.35563016, 0.36727995, 0.37777394, 0.4063434 ,\n",
       "       0.43544543, 0.4430179 , 0.44615275, 0.43958127, 0.45181102,\n",
       "       0.4840868 , 0.5488211 , 0.55564034, 0.56725615, 0.5935053 ,\n",
       "       0.6797008 , 0.67110497, 0.60673577, 0.64617866, 0.6318093 ,\n",
       "       0.56749195, 0.5217153 , 0.5923045 , 0.63337314, 0.59691256,\n",
       "       0.605066  , 0.59863645, 0.62643623, 0.6862386 , 0.709538  ,\n",
       "       0.6308488 , 0.61509305, 0.6194956 , 0.5771057 , 0.5291146 ,\n",
       "       0.55020005, 0.4695931 , 0.49527687, 0.5411426 , 0.5475236 ,\n",
       "       0.552895  , 0.5411759 , 0.51274365, 0.4875276 , 0.50303996,\n",
       "       0.4884203 , 0.4903639 , 0.46552253, 0.46983027, 0.46895373,\n",
       "       0.48694104, 0.50539494, 0.5381305 , 0.5564231 , 0.56331986,\n",
       "       0.616479  , 0.6390594 , 0.6257725 , 0.6411186 , 0.6373252 ,\n",
       "       0.6302141 , 0.60423577, 0.6085873 , 0.5972863 , 0.5481675 ,\n",
       "       0.5032175 , 0.5187738 , 0.5299515 , 0.5223716 , 0.54390424,\n",
       "       0.55986196, 0.5285364 , 0.5063891 , 0.5197701 , 0.52026796,\n",
       "       0.5122182 , 0.5262835 , 0.5196231 , 0.5146068 , 0.47139055,\n",
       "       0.46803784, 0.47402817, 0.4746123 , 0.49012262, 0.53810436,\n",
       "       0.54681706, 0.5477253 , 0.55646724, 0.53321475, 0.5404383 ,\n",
       "       0.5283018 , 0.52449244, 0.5085906 , 0.5169062 , 0.52972144,\n",
       "       0.5280818 , 0.52944624, 0.52441305, 0.5206374 , 0.51992124,\n",
       "       0.50283766, 0.5188239 , 0.50978523, 0.50221705, 0.49946892,\n",
       "       0.4797513 , 0.39147556, 0.38041872, 0.35832965, 0.3673752 ,\n",
       "       0.3635863 , 0.35788268, 0.381644  , 0.37596083, 0.3756163 ,\n",
       "       0.3668694 , 0.36509103, 0.35852784, 0.35377735, 0.37257093,\n",
       "       0.37474626, 0.3982411 , 0.3897075 , 0.38079095, 0.383097  ,\n",
       "       0.37841564, 0.37867093, 0.3637681 , 0.35743618, 0.35502434,\n",
       "       0.3532915 , 0.35346895, 0.37301916, 0.37251425, 0.3472767 ,\n",
       "       0.3154655 , 0.32937944, 0.44635606, 0.45327848, 0.4693901 ,\n",
       "       0.45942777, 0.44835758, 0.44343287, 0.44116676, 0.45015037,\n",
       "       0.4489513 , 0.44604474, 0.4569875 , 0.45603245, 0.45002848,\n",
       "       0.43511343, 0.416825  , 0.41831183, 0.42053026, 0.41021997,\n",
       "       0.41222304, 0.4067313 , 0.39921474, 0.3912927 , 0.39363492,\n",
       "       0.39011502, 0.36636865, 0.36420113, 0.3525948 , 0.31213528,\n",
       "       0.30025065, 0.29715323, 0.27696604, 0.29370767, 0.294101  ,\n",
       "       0.3209225 , 0.3245495 , 0.33376068, 0.31086612, 0.305866  ,\n",
       "       0.3056314 , 0.30272478, 0.3052392 , 0.31077123, 0.321056  ,\n",
       "       0.31861168], dtype=float32)"
      ]
     },
     "execution_count": 76,
     "metadata": {},
     "output_type": "execute_result"
    }
   ],
   "source": [
    "trainY"
   ]
  },
  {
   "cell_type": "code",
   "execution_count": 80,
   "metadata": {},
   "outputs": [],
   "source": [
    "from keras.models import Sequential\n",
    "from keras.layers import Activation, Dense,Dropout\n",
    "from keras.layers import LSTM,GRU\n",
    "model = Sequential()\n",
    "#model.add(LSTM(256, input_shape=(trainX.shape[1], trainX.shape[2])))\n",
    "#model.add(Dense(1))\n",
    "model.add(LSTM(256, return_sequences=True,input_shape=(trainX.shape[1], trainX.shape[2])))\n",
    "\n",
    "model.add(LSTM(256))\n",
    "\n",
    "\n",
    "model.add(Dense(1))\n",
    "model.compile(loss='mae', optimizer='adam')\n",
    "history = model.fit(trainX, trainY, epochs=300, batch_size=100, validation_data=(testX, testY), verbose=0, shuffle=False)"
   ]
  },
  {
   "cell_type": "code",
   "execution_count": 81,
   "metadata": {},
   "outputs": [],
   "source": [
    "import matplotlib.pyplot as plt"
   ]
  },
  {
   "cell_type": "code",
   "execution_count": 82,
   "metadata": {},
   "outputs": [
    {
     "data": {
      "image/png": "[encoded data removed]",
      "text/plain": [
       "<Figure size 432x288 with 1 Axes>"
      ]
     },
     "metadata": {
      "needs_background": "light"
     },
     "output_type": "display_data"
    }
   ],
   "source": [
    "plt.plot(history.history['loss'], label='train')\n",
    "plt.plot(history.history['val_loss'], label='test')\n",
    "plt.legend()\n",
    "plt.show()"
   ]
  },
  {
   "cell_type": "code",
   "execution_count": 83,
   "metadata": {},
   "outputs": [
    {
     "data": {
      "image/png": "[encoded data removed]",
      "text/plain": [
       "<Figure size 432x288 with 1 Axes>"
      ]
     },
     "metadata": {
      "needs_background": "light"
     },
     "output_type": "display_data"
    }
   ],
   "source": [
    "yhat = model.predict(testX)\n",
    "plt.plot(yhat, label='predict')\n",
    "plt.plot(testY, label='true')\n",
    "plt.legend()\n",
    "plt.show()"
   ]
  },
  {
   "cell_type": "code",
   "execution_count": 84,
   "metadata": {},
   "outputs": [
    {
     "data": {
      "text/plain": [
       "array([[0.3219281 ],\n",
       "       [0.30901977],\n",
       "       [0.30071762],\n",
       "       [0.29698333],\n",
       "       [0.30079827],\n",
       "       [0.29926106],\n",
       "       [0.29059216],\n",
       "       [0.29054537],\n",
       "       [0.272622  ],\n",
       "       [0.25912994],\n",
       "       [0.29505187],\n",
       "       [0.29512787],\n",
       "       [0.29633015],\n",
       "       [0.29719648],\n",
       "       [0.3235667 ],\n",
       "       [0.3087092 ],\n",
       "       [0.30071002],\n",
       "       [0.30075797],\n",
       "       [0.29938772],\n",
       "       [0.30555728],\n",
       "       [0.30916414],\n",
       "       [0.30979154],\n",
       "       [0.30094364],\n",
       "       [0.29871997],\n",
       "       [0.29387948],\n",
       "       [0.29528764],\n",
       "       [0.30838105],\n",
       "       [0.31602502],\n",
       "       [0.3211088 ],\n",
       "       [0.34695792],\n",
       "       [0.37856945],\n",
       "       [0.35491648],\n",
       "       [0.34781244],\n",
       "       [0.3678878 ],\n",
       "       [0.36804897],\n",
       "       [0.3678482 ],\n",
       "       [0.39324996],\n",
       "       [0.4152582 ],\n",
       "       [0.41224983],\n",
       "       [0.42086834],\n",
       "       [0.42668667],\n",
       "       [0.42737263],\n",
       "       [0.40839335],\n",
       "       [0.40808   ],\n",
       "       [0.41061276],\n",
       "       [0.39716917],\n",
       "       [0.387206  ],\n",
       "       [0.3856826 ],\n",
       "       [0.3891422 ],\n",
       "       [0.40854302],\n",
       "       [0.43546328],\n",
       "       [0.45570514],\n",
       "       [0.45985445],\n",
       "       [0.46337363],\n",
       "       [0.4621613 ],\n",
       "       [0.46242034],\n",
       "       [0.4614453 ],\n",
       "       [0.4520996 ],\n",
       "       [0.45697588],\n",
       "       [0.48533288],\n",
       "       [0.49241045],\n",
       "       [0.4936499 ],\n",
       "       [0.5121206 ],\n",
       "       [0.50734776],\n",
       "       [0.49981746],\n",
       "       [0.53314686],\n",
       "       [0.53301495],\n",
       "       [0.5265419 ],\n",
       "       [0.5266587 ],\n",
       "       [0.5036336 ],\n",
       "       [0.49105355],\n",
       "       [0.49046823],\n",
       "       [0.520096  ],\n",
       "       [0.48303142],\n",
       "       [0.48448563],\n",
       "       [0.48355636],\n",
       "       [0.49613938],\n",
       "       [0.49400672],\n",
       "       [0.4755636 ],\n",
       "       [0.4462122 ],\n",
       "       [0.41898718],\n",
       "       [0.41467848],\n",
       "       [0.4121113 ],\n",
       "       [0.40373555],\n",
       "       [0.40984437],\n",
       "       [0.42174336],\n",
       "       [0.41670933],\n",
       "       [0.43033698],\n",
       "       [0.4417512 ],\n",
       "       [0.44214264],\n",
       "       [0.41267452],\n",
       "       [0.35704288],\n",
       "       [0.35408875],\n",
       "       [0.34970924],\n",
       "       [0.29252687],\n",
       "       [0.14732458],\n",
       "       [0.16487756],\n",
       "       [0.1544364 ],\n",
       "       [0.13834754],\n",
       "       [0.14957888],\n",
       "       [0.15578544],\n",
       "       [0.17675005],\n",
       "       [0.23788293],\n",
       "       [0.2199419 ],\n",
       "       [0.22424431],\n",
       "       [0.2096649 ],\n",
       "       [0.25284705],\n",
       "       [0.26021025],\n",
       "       [0.25853685],\n",
       "       [0.26231292],\n",
       "       [0.23250179],\n",
       "       [0.22165991],\n",
       "       [0.22106232],\n",
       "       [0.24313708],\n",
       "       [0.2331321 ],\n",
       "       [0.2575548 ],\n",
       "       [0.2709425 ],\n",
       "       [0.26599744],\n",
       "       [0.26996598],\n",
       "       [0.2836536 ],\n",
       "       [0.30940738],\n",
       "       [0.30504006],\n",
       "       [0.30810788],\n",
       "       [0.2884589 ],\n",
       "       [0.27581272],\n",
       "       [0.27635422],\n",
       "       [0.2694067 ],\n",
       "       [0.27487686],\n",
       "       [0.27204204],\n",
       "       [0.27222407],\n",
       "       [0.2900124 ],\n",
       "       [0.2935475 ],\n",
       "       [0.29842398],\n",
       "       [0.29315367],\n",
       "       [0.2738108 ],\n",
       "       [0.28090027],\n",
       "       [0.29984385],\n",
       "       [0.32417002],\n",
       "       [0.32498753],\n",
       "       [0.32803488],\n",
       "       [0.33657384],\n",
       "       [0.33918536],\n",
       "       [0.361882  ],\n",
       "       [0.42711112],\n",
       "       [0.4178926 ],\n",
       "       [0.42298904],\n",
       "       [0.43359193],\n",
       "       [0.41688403],\n",
       "       [0.428436  ],\n",
       "       [0.44147226],\n",
       "       [0.46170112],\n",
       "       [0.5022218 ],\n",
       "       [0.49278942],\n",
       "       [0.42620417],\n",
       "       [0.41356364],\n",
       "       [0.41389617],\n",
       "       [0.43065703],\n",
       "       [0.4704494 ],\n",
       "       [0.47921273],\n",
       "       [0.4646263 ],\n",
       "       [0.4757144 ],\n",
       "       [0.48874435],\n",
       "       [0.4845069 ],\n",
       "       [0.48703608],\n",
       "       [0.46246633],\n",
       "       [0.44168502],\n",
       "       [0.4492363 ],\n",
       "       [0.4469038 ],\n",
       "       [0.4218826 ],\n",
       "       [0.42508033],\n",
       "       [0.4316092 ],\n",
       "       [0.45299903],\n",
       "       [0.46957028],\n",
       "       [0.47042862],\n",
       "       [0.47643325],\n",
       "       [0.47401118],\n",
       "       [0.50390655],\n",
       "       [0.47420594],\n",
       "       [0.48348436],\n",
       "       [0.49131724],\n",
       "       [0.4820579 ],\n",
       "       [0.479934  ],\n",
       "       [0.4886352 ],\n",
       "       [0.48670653],\n",
       "       [0.49134734],\n",
       "       [0.49132246],\n",
       "       [0.46257544],\n",
       "       [0.46624815],\n",
       "       [0.4654276 ],\n",
       "       [0.4512718 ],\n",
       "       [0.47026163],\n",
       "       [0.46895513],\n",
       "       [0.46518388],\n",
       "       [0.4597379 ],\n",
       "       [0.45629102],\n",
       "       [0.46080098],\n",
       "       [0.4653585 ],\n",
       "       [0.48234275],\n",
       "       [0.4727821 ],\n",
       "       [0.4517686 ],\n",
       "       [0.44943255],\n",
       "       [0.44511107],\n",
       "       [0.4363905 ],\n",
       "       [0.44182056],\n",
       "       [0.44614744],\n",
       "       [0.44692883],\n",
       "       [0.44914567],\n",
       "       [0.44127038],\n",
       "       [0.4403682 ],\n",
       "       [0.44043615],\n",
       "       [0.44644487],\n",
       "       [0.45521882],\n",
       "       [0.45721045],\n",
       "       [0.4623309 ],\n",
       "       [0.44918162],\n",
       "       [0.45256576],\n",
       "       [0.45266584],\n",
       "       [0.45555478],\n",
       "       [0.4504659 ],\n",
       "       [0.4521035 ],\n",
       "       [0.4453992 ],\n",
       "       [0.44389784],\n",
       "       [0.44604662],\n",
       "       [0.44580588],\n",
       "       [0.44802025],\n",
       "       [0.4540982 ],\n",
       "       [0.4609109 ],\n",
       "       [0.4722071 ],\n",
       "       [0.47620282],\n",
       "       [0.47899756],\n",
       "       [0.49384472],\n",
       "       [0.52510184],\n",
       "       [0.5819214 ],\n",
       "       [0.58651537],\n",
       "       [0.5868696 ],\n",
       "       [0.5941785 ],\n",
       "       [0.6209845 ],\n",
       "       [0.6173631 ],\n",
       "       [0.5990456 ],\n",
       "       [0.60219413],\n",
       "       [0.60951155],\n",
       "       [0.6360638 ],\n",
       "       [0.63851565],\n",
       "       [0.6302944 ],\n",
       "       [0.6330203 ],\n",
       "       [0.64607656],\n",
       "       [0.63701093],\n",
       "       [0.61298084],\n",
       "       [0.6215032 ],\n",
       "       [0.6364947 ],\n",
       "       [0.6456967 ],\n",
       "       [0.645775  ],\n",
       "       [0.65324515],\n",
       "       [0.6727434 ],\n",
       "       [0.64570475],\n",
       "       [0.6390429 ],\n",
       "       [0.6411182 ],\n",
       "       [0.62323356],\n",
       "       [0.6277171 ],\n",
       "       [0.63541776],\n",
       "       [0.6262908 ],\n",
       "       [0.609733  ],\n",
       "       [0.6109887 ],\n",
       "       [0.61178166],\n",
       "       [0.6193397 ],\n",
       "       [0.62524164],\n",
       "       [0.6322746 ],\n",
       "       [0.6421297 ],\n",
       "       [0.6343593 ],\n",
       "       [0.5967176 ],\n",
       "       [0.5389858 ],\n",
       "       [0.53592306],\n",
       "       [0.5200375 ],\n",
       "       [0.5208573 ],\n",
       "       [0.52247167],\n",
       "       [0.51868093],\n",
       "       [0.5328801 ],\n",
       "       [0.5304219 ],\n",
       "       [0.53450036],\n",
       "       [0.5399105 ],\n",
       "       [0.5403146 ],\n",
       "       [0.5635088 ],\n",
       "       [0.5715887 ],\n",
       "       [0.5753244 ],\n",
       "       [0.57723105],\n",
       "       [0.58063275],\n",
       "       [0.5787075 ],\n",
       "       [0.5644162 ],\n",
       "       [0.542654  ],\n",
       "       [0.54410917],\n",
       "       [0.53501165],\n",
       "       [0.55751854],\n",
       "       [0.56116533],\n",
       "       [0.5614049 ],\n",
       "       [0.5719083 ],\n",
       "       [0.5634235 ],\n",
       "       [0.56383544],\n",
       "       [0.5663232 ],\n",
       "       [0.5482334 ],\n",
       "       [0.54846346],\n",
       "       [0.5516219 ],\n",
       "       [0.5592868 ]], dtype=float32)"
      ]
     },
     "execution_count": 84,
     "metadata": {},
     "output_type": "execute_result"
    }
   ],
   "source": [
    "yhat.reshape(-1,1)"
   ]
  },
  {
   "cell_type": "code",
   "execution_count": 85,
   "metadata": {},
   "outputs": [],
   "source": [
    "yhat_inverse = scaler.inverse_transform(yhat.reshape(-1, 1))\n",
    "testY_inverse = scaler.inverse_transform(testY.reshape(-1, 1))"
   ]
  },
  {
   "cell_type": "code",
   "execution_count": 86,
   "metadata": {},
   "outputs": [],
   "source": [
    "from sklearn.metrics import mean_squared_error\n",
    "from math import sqrt"
   ]
  },
  {
   "cell_type": "code",
   "execution_count": 87,
   "metadata": {},
   "outputs": [
    {
     "name": "stdout",
     "output_type": "stream",
     "text": [
      "Test RMSE: 247.539\n"
     ]
    }
   ],
   "source": [
    "rmse = sqrt(mean_squared_error(testY_inverse, yhat_inverse))\n",
    "print('Test RMSE: %.3f' % rmse)"
   ]
  },
  {
   "cell_type": "code",
   "execution_count": 88,
   "metadata": {},
   "outputs": [
    {
     "data": {
      "image/png": "[encoded data removed]",
      "text/plain": [
       "<Figure size 432x288 with 1 Axes>"
      ]
     },
     "metadata": {
      "needs_background": "light"
     },
     "output_type": "display_data"
    }
   ],
   "source": [
    "plt.plot(yhat_inverse, label='predict')\n",
    "plt.plot(testY_inverse, label='actual', alpha=0.5)\n",
    "plt.legend()\n",
    "plt.show()"
   ]
  },
  {
   "cell_type": "code",
   "execution_count": 89,
   "metadata": {},
   "outputs": [],
   "source": [
    "predictDates = df.tail(len(testX)).index"
   ]
  },
  {
   "cell_type": "code",
   "execution_count": 90,
   "metadata": {},
   "outputs": [],
   "source": [
    "testY_reshape = testY_inverse.reshape(len(testY_inverse))\n",
    "yhat_reshape = yhat_inverse.reshape(len(yhat_inverse))"
   ]
  },
  {
   "cell_type": "code",
   "execution_count": 134,
   "metadata": {},
   "outputs": [
    {
     "data": {
      "image/png": "[encoded data removed]",
      "text/plain": [
       "<Figure size 1440x720 with 1 Axes>"
      ]
     },
     "metadata": {
      "needs_background": "light"
     },
     "output_type": "display_data"
    }
   ],
   "source": [
    "plt.rc('figure', figsize=(20, 10))\n",
    "fig, ax = plt.subplots()\n",
    "ax.plot(predictDates, testY_reshape, c='blue',label= 'Actual Price',linewidth=2)\n",
    "ax.plot(predictDates, yhat_reshape, c='r',label= 'Predict Price',linewidth=2)\n",
    "ax.tick_params(axis='both', which='major', labelsize=20)\n",
    "plt.title('Actual VS Predicted BTC Price',fontsize=20)\n",
    "plt.xlabel('Date',fontsize=20)\n",
    "plt.ylabel('Price in USD',fontsize=20)\n",
    "plt.legend(prop={'size': 20})\n",
    "plt.show()"
   ]
  },
  {
   "cell_type": "markdown",
   "metadata": {},
   "source": [
    "# import seaborn as sns"
   ]
  },
  {
   "cell_type": "code",
   "execution_count": 97,
   "metadata": {},
   "outputs": [
    {
     "data": {
      "text/plain": [
       "<matplotlib.axes._subplots.AxesSubplot at 0x7f3561ea7730>"
      ]
     },
     "execution_count": 97,
     "metadata": {},
     "output_type": "execute_result"
    },
    {
     "data": {
      "image/png": "[encoded data removed]",
      "text/plain": [
       "<Figure size 1440x720 with 2 Axes>"
      ]
     },
     "metadata": {
      "needs_background": "light"
     },
     "output_type": "display_data"
    }
   ],
   "source": [
    "sns.heatmap(df.corr(), annot=True, cmap='RdYlGn', linewidths=0.1, vmin=0)"
   ]
  },
  {
   "cell_type": "code",
   "execution_count": 110,
   "metadata": {},
   "outputs": [],
   "source": [
    "def series_to_supervised(data, n_in=1, n_out=1, dropnan=True):\n",
    "    n_vars = 1 if type(data) is list else data.shape[1]\n",
    "    \n",
    "    df = pd.DataFrame(data)\n",
    "    cols, names = list(), list()\n",
    "    # input sequence (t-n, ... t-1)\n",
    "    for i in range(n_in, 0, -1):\n",
    "        cols.append(df.shift(i))\n",
    "        names += [('var%d(t-%d)' % (j+1, i)) for j in range(n_vars)]\n",
    "        print(names)\n",
    "    # forecast sequence (t, t+1, ... t+n)\n",
    "    for i in range(0, n_out):\n",
    "        cols.append(df.shift(-i))\n",
    "        if i == 0:\n",
    "            names += [('var%d(t)' % (j+1)) for j in range(n_vars)]\n",
    "        else:\n",
    "            names += [('var%d(t+%d)' % (j+1, i)) for j in range(n_vars)]\n",
    "    # put it all together\n",
    "    agg = pd.concat(cols, axis=1)\n",
    "    agg.columns = names\n",
    "    # drop rows with NaN values\n",
    "    if dropnan:\n",
    "        agg.dropna(inplace=True)\n",
    "    return agg"
   ]
  },
  {
   "cell_type": "code",
   "execution_count": 99,
   "metadata": {},
   "outputs": [
    {
     "data": {
      "text/html": [
       "<div>\n",
       "<style scoped>\n",
       "    .dataframe tbody tr th:only-of-type {\n",
       "        vertical-align: middle;\n",
       "    }\n",
       "\n",
       "    .dataframe tbody tr th {\n",
       "        vertical-align: top;\n",
       "    }\n",
       "\n",
       "    .dataframe thead th {\n",
       "        text-align: right;\n",
       "    }\n",
       "</style>\n",
       "<table border=\"1\" class=\"dataframe\">\n",
       "  <thead>\n",
       "    <tr style=\"text-align: right;\">\n",
       "      <th></th>\n",
       "      <th>close</th>\n",
       "      <th>high</th>\n",
       "      <th>low</th>\n",
       "      <th>open</th>\n",
       "      <th>trades</th>\n",
       "      <th>turnover</th>\n",
       "      <th>volume</th>\n",
       "      <th>vwap</th>\n",
       "    </tr>\n",
       "    <tr>\n",
       "      <th>date</th>\n",
       "      <th></th>\n",
       "      <th></th>\n",
       "      <th></th>\n",
       "      <th></th>\n",
       "      <th></th>\n",
       "      <th></th>\n",
       "      <th></th>\n",
       "      <th></th>\n",
       "    </tr>\n",
       "  </thead>\n",
       "  <tbody>\n",
       "    <tr>\n",
       "      <th>2018-01-01</th>\n",
       "      <td>13541.366319</td>\n",
       "      <td>13557.984028</td>\n",
       "      <td>13524.845139</td>\n",
       "      <td>13541.872917</td>\n",
       "      <td>151.901389</td>\n",
       "      <td>3.191650e+09</td>\n",
       "      <td>430376.524306</td>\n",
       "      <td>13542.399306</td>\n",
       "    </tr>\n",
       "    <tr>\n",
       "      <th>2018-01-02</th>\n",
       "      <td>13618.049306</td>\n",
       "      <td>13632.106597</td>\n",
       "      <td>13602.637153</td>\n",
       "      <td>13616.986458</td>\n",
       "      <td>173.356250</td>\n",
       "      <td>3.991163e+09</td>\n",
       "      <td>547527.584028</td>\n",
       "      <td>13618.215833</td>\n",
       "    </tr>\n",
       "    <tr>\n",
       "      <th>2018-01-03</th>\n",
       "      <td>14993.412500</td>\n",
       "      <td>15009.243750</td>\n",
       "      <td>14977.330556</td>\n",
       "      <td>14993.340278</td>\n",
       "      <td>188.893056</td>\n",
       "      <td>4.238429e+09</td>\n",
       "      <td>635719.903472</td>\n",
       "      <td>14994.467292</td>\n",
       "    </tr>\n",
       "    <tr>\n",
       "      <th>2018-01-04</th>\n",
       "      <td>14846.844444</td>\n",
       "      <td>14859.795139</td>\n",
       "      <td>14833.456944</td>\n",
       "      <td>14846.855556</td>\n",
       "      <td>158.861806</td>\n",
       "      <td>3.806899e+09</td>\n",
       "      <td>564605.880556</td>\n",
       "      <td>14847.653750</td>\n",
       "    </tr>\n",
       "    <tr>\n",
       "      <th>2018-01-05</th>\n",
       "      <td>15463.361806</td>\n",
       "      <td>15476.509722</td>\n",
       "      <td>15449.327083</td>\n",
       "      <td>15462.259028</td>\n",
       "      <td>164.459028</td>\n",
       "      <td>3.995719e+09</td>\n",
       "      <td>624329.748611</td>\n",
       "      <td>15464.094653</td>\n",
       "    </tr>\n",
       "  </tbody>\n",
       "</table>\n",
       "</div>"
      ],
      "text/plain": [
       "                   close          high           low          open  \\\n",
       "date                                                                 \n",
       "2018-01-01  13541.366319  13557.984028  13524.845139  13541.872917   \n",
       "2018-01-02  13618.049306  13632.106597  13602.637153  13616.986458   \n",
       "2018-01-03  14993.412500  15009.243750  14977.330556  14993.340278   \n",
       "2018-01-04  14846.844444  14859.795139  14833.456944  14846.855556   \n",
       "2018-01-05  15463.361806  15476.509722  15449.327083  15462.259028   \n",
       "\n",
       "                trades      turnover         volume          vwap  \n",
       "date                                                               \n",
       "2018-01-01  151.901389  3.191650e+09  430376.524306  13542.399306  \n",
       "2018-01-02  173.356250  3.991163e+09  547527.584028  13618.215833  \n",
       "2018-01-03  188.893056  4.238429e+09  635719.903472  14994.467292  \n",
       "2018-01-04  158.861806  3.806899e+09  564605.880556  14847.653750  \n",
       "2018-01-05  164.459028  3.995719e+09  624329.748611  15464.094653  "
      ]
     },
     "execution_count": 99,
     "metadata": {},
     "output_type": "execute_result"
    }
   ],
   "source": [
    "df.head()"
   ]
  },
  {
   "cell_type": "code",
   "execution_count": 100,
   "metadata": {},
   "outputs": [],
   "source": [
    "values = df[['vwap'] + ['trades'] + ['volume']].values\n",
    "\n",
    "values = values.astype('float32')"
   ]
  },
  {
   "cell_type": "code",
   "execution_count": 101,
   "metadata": {},
   "outputs": [
    {
     "data": {
      "text/plain": [
       "array([[1.3542399e+04, 1.5190138e+02, 4.3037653e+05],\n",
       "       [1.3618216e+04, 1.7335625e+02, 5.4752756e+05],\n",
       "       [1.4994468e+04, 1.8889305e+02, 6.3571988e+05],\n",
       "       ...,\n",
       "       [1.0580353e+04, 8.4100693e+01, 3.1150050e+05],\n",
       "       [1.0684435e+04, 1.0550625e+02, 4.6799416e+05],\n",
       "       [1.0749759e+04, 8.1982437e+01, 3.6201200e+05]], dtype=float32)"
      ]
     },
     "execution_count": 101,
     "metadata": {},
     "output_type": "execute_result"
    }
   ],
   "source": [
    "values"
   ]
  },
  {
   "cell_type": "code",
   "execution_count": 102,
   "metadata": {},
   "outputs": [],
   "source": [
    "scaler = MinMaxScaler(feature_range=(0, 1))\n",
    "scaled = scaler.fit_transform(values)"
   ]
  },
  {
   "cell_type": "code",
   "execution_count": 107,
   "metadata": {},
   "outputs": [
    {
     "data": {
      "text/plain": [
       "3"
      ]
     },
     "execution_count": 107,
     "metadata": {},
     "output_type": "execute_result"
    }
   ],
   "source": [
    "scaled.shape[1]"
   ]
  },
  {
   "cell_type": "code",
   "execution_count": 111,
   "metadata": {},
   "outputs": [
    {
     "name": "stdout",
     "output_type": "stream",
     "text": [
      "['var1(t-1)', 'var2(t-1)', 'var3(t-1)']\n"
     ]
    },
    {
     "data": {
      "text/html": [
       "<div>\n",
       "<style scoped>\n",
       "    .dataframe tbody tr th:only-of-type {\n",
       "        vertical-align: middle;\n",
       "    }\n",
       "\n",
       "    .dataframe tbody tr th {\n",
       "        vertical-align: top;\n",
       "    }\n",
       "\n",
       "    .dataframe thead th {\n",
       "        text-align: right;\n",
       "    }\n",
       "</style>\n",
       "<table border=\"1\" class=\"dataframe\">\n",
       "  <thead>\n",
       "    <tr style=\"text-align: right;\">\n",
       "      <th></th>\n",
       "      <th>var1(t-1)</th>\n",
       "      <th>var2(t-1)</th>\n",
       "      <th>var3(t-1)</th>\n",
       "      <th>var1(t)</th>\n",
       "      <th>var2(t)</th>\n",
       "      <th>var3(t)</th>\n",
       "    </tr>\n",
       "  </thead>\n",
       "  <tbody>\n",
       "    <tr>\n",
       "      <th>1</th>\n",
       "      <td>0.766165</td>\n",
       "      <td>0.046291</td>\n",
       "      <td>0.028951</td>\n",
       "      <td>0.771770</td>\n",
       "      <td>0.055034</td>\n",
       "      <td>0.041588</td>\n",
       "    </tr>\n",
       "    <tr>\n",
       "      <th>2</th>\n",
       "      <td>0.771770</td>\n",
       "      <td>0.055034</td>\n",
       "      <td>0.041588</td>\n",
       "      <td>0.873515</td>\n",
       "      <td>0.061365</td>\n",
       "      <td>0.051102</td>\n",
       "    </tr>\n",
       "    <tr>\n",
       "      <th>3</th>\n",
       "      <td>0.873515</td>\n",
       "      <td>0.061365</td>\n",
       "      <td>0.051102</td>\n",
       "      <td>0.862661</td>\n",
       "      <td>0.049127</td>\n",
       "      <td>0.043430</td>\n",
       "    </tr>\n",
       "    <tr>\n",
       "      <th>4</th>\n",
       "      <td>0.862661</td>\n",
       "      <td>0.049127</td>\n",
       "      <td>0.043430</td>\n",
       "      <td>0.908234</td>\n",
       "      <td>0.051408</td>\n",
       "      <td>0.049873</td>\n",
       "    </tr>\n",
       "    <tr>\n",
       "      <th>5</th>\n",
       "      <td>0.908234</td>\n",
       "      <td>0.051408</td>\n",
       "      <td>0.049873</td>\n",
       "      <td>0.994274</td>\n",
       "      <td>0.047292</td>\n",
       "      <td>0.045616</td>\n",
       "    </tr>\n",
       "  </tbody>\n",
       "</table>\n",
       "</div>"
      ],
      "text/plain": [
       "   var1(t-1)  var2(t-1)  var3(t-1)   var1(t)   var2(t)   var3(t)\n",
       "1   0.766165   0.046291   0.028951  0.771770  0.055034  0.041588\n",
       "2   0.771770   0.055034   0.041588  0.873515  0.061365  0.051102\n",
       "3   0.873515   0.061365   0.051102  0.862661  0.049127  0.043430\n",
       "4   0.862661   0.049127   0.043430  0.908234  0.051408  0.049873\n",
       "5   0.908234   0.051408   0.049873  0.994274  0.047292  0.045616"
      ]
     },
     "execution_count": 111,
     "metadata": {},
     "output_type": "execute_result"
    }
   ],
   "source": [
    "reframed = series_to_supervised(scaled, 1, 1)\n",
    "reframed.head()"
   ]
  },
  {
   "cell_type": "code",
   "execution_count": 183,
   "metadata": {},
   "outputs": [
    {
     "name": "stdout",
     "output_type": "stream",
     "text": [
      "   var1(t-1)  var2(t-1)  var3(t-1)   var1(t)\n",
      "1   0.766165   0.046291   0.028951  0.771770\n",
      "2   0.771770   0.055034   0.041588  0.873515\n",
      "3   0.873515   0.061365   0.051102  0.862661\n",
      "4   0.862661   0.049127   0.043430  0.908234\n",
      "5   0.908234   0.051408   0.049873  0.994274\n"
     ]
    }
   ],
   "source": [
    "reframed.drop(reframed.columns[[4,5]], axis=1, inplace=True)\n",
    "print(reframed.head())"
   ]
  },
  {
   "cell_type": "code",
   "execution_count": 184,
   "metadata": {},
   "outputs": [
    {
     "name": "stdout",
     "output_type": "stream",
     "text": [
      "(688, 1, 3) (688,) (296, 1, 3) (296,)\n"
     ]
    }
   ],
   "source": [
    "values = reframed.values\n",
    "n_train_hours = int(len(values) * 0.7)\n",
    "train = values[:n_train_hours, :]\n",
    "test = values[n_train_hours:, :]\n",
    "# split into input and outputs\n",
    "train_X, train_y = train[:, :-1], train[:, -1]\n",
    "test_X, test_y = test[:, :-1], test[:, -1]\n",
    "# reshape input to be 3D [samples, timesteps, features]\n",
    "train_X = train_X.reshape((train_X.shape[0], 1, train_X.shape[1]))\n",
    "test_X = test_X.reshape((test_X.shape[0], 1, test_X.shape[1]))\n",
    "print(train_X.shape, train_y.shape, test_X.shape, test_y.shape)"
   ]
  },
  {
   "cell_type": "code",
   "execution_count": 185,
   "metadata": {},
   "outputs": [],
   "source": [
    "multi_model = Sequential()\n",
    "multi_model.add(LSTM(100, input_shape=(train_X.shape[1], train_X.shape[2])))\n",
    "multi_model.add(Dense(1))\n",
    "multi_model.compile(loss='mae', optimizer='adam')\n",
    "multi_history = multi_model.fit(train_X, train_y, epochs=300, batch_size=100, validation_data=(test_X, test_y), verbose=0, shuffle=False)"
   ]
  },
  {
   "cell_type": "code",
   "execution_count": 186,
   "metadata": {},
   "outputs": [
    {
     "data": {
      "image/png": "[encoded data removed]",
      "text/plain": [
       "<Figure size 432x288 with 1 Axes>"
      ]
     },
     "metadata": {
      "needs_background": "light"
     },
     "output_type": "display_data"
    }
   ],
   "source": [
    "plt.plot(multi_history.history['loss'], label='multi_train')\n",
    "plt.plot(multi_history.history['val_loss'], label='multi_test')\n",
    "plt.legend()\n",
    "plt.show()"
   ]
  },
  {
   "cell_type": "code",
   "execution_count": 187,
   "metadata": {},
   "outputs": [
    {
     "data": {
      "image/png": "[encoded data removed]",
      "text/plain": [
       "<Figure size 432x288 with 1 Axes>"
      ]
     },
     "metadata": {
      "needs_background": "light"
     },
     "output_type": "display_data"
    }
   ],
   "source": [
    "yhat = multi_model.predict(test_X)\n",
    "plt.plot(yhat, label='predict')\n",
    "plt.plot(test_y, label='true')\n",
    "plt.legend()\n",
    "plt.show()"
   ]
  },
  {
   "cell_type": "code",
   "execution_count": 188,
   "metadata": {},
   "outputs": [
    {
     "data": {
      "text/plain": [
       "3"
      ]
     },
     "execution_count": 188,
     "metadata": {},
     "output_type": "execute_result"
    }
   ],
   "source": [
    "test_X.shape[2]"
   ]
  },
  {
   "cell_type": "code",
   "execution_count": 189,
   "metadata": {},
   "outputs": [],
   "source": [
    "test_X = test_X.reshape((test_X.shape[0], test_X.shape[2]))\n",
    "# invert scaling for forecast\n",
    "inv_yhat = np.concatenate((yhat, test_X[:, 1:]), axis=1)\n",
    "inv_yhat = scaler.inverse_transform(inv_yhat)\n",
    "inv_yhat = inv_yhat[:,0]\n",
    "# invert scaling for actual\n",
    "test_y = test_y.reshape((len(test_y), 1))\n",
    "inv_y = np.concatenate((test_y, test_X[:, 1:]), axis=1)\n",
    "inv_y = scaler.inverse_transform(inv_y)\n",
    "inv_y = inv_y[:,0]"
   ]
  },
  {
   "cell_type": "code",
   "execution_count": 190,
   "metadata": {},
   "outputs": [
    {
     "name": "stdout",
     "output_type": "stream",
     "text": [
      "Test RMSE: 249.489\n"
     ]
    }
   ],
   "source": [
    "rmse = sqrt(mean_squared_error(inv_y, inv_yhat))\n",
    "print('Test RMSE: %.3f' % rmse)"
   ]
  },
  {
   "cell_type": "code",
   "execution_count": 194,
   "metadata": {},
   "outputs": [
    {
     "ename": "NameError",
     "evalue": "name 'size' is not defined",
     "output_type": "error",
     "traceback": [
      "\u001b[0;31m---------------------------------------------------------------------------\u001b[0m",
      "\u001b[0;31mNameError\u001b[0m                                 Traceback (most recent call last)",
      "\u001b[0;32m<ipython-input-194-2509313bc1a9>\u001b[0m in \u001b[0;36m<module>\u001b[0;34m\u001b[0m\n\u001b[0;32m----> 1\u001b[0;31m \u001b[0msize\u001b[0m\u001b[0;34m(\u001b[0m\u001b[0mpredictDates\u001b[0m\u001b[0;34m)\u001b[0m\u001b[0;34m\u001b[0m\u001b[0;34m\u001b[0m\u001b[0m\n\u001b[0m",
      "\u001b[0;31mNameError\u001b[0m: name 'size' is not defined"
     ]
    }
   ],
   "source": [
    "predictDates"
   ]
  },
  {
   "cell_type": "code",
   "execution_count": 191,
   "metadata": {},
   "outputs": [
    {
     "ename": "ValueError",
     "evalue": "x and y must have same first dimension, but have shapes (295,) and (296,)",
     "output_type": "error",
     "traceback": [
      "\u001b[0;31m---------------------------------------------------------------------------\u001b[0m",
      "\u001b[0;31mValueError\u001b[0m                                Traceback (most recent call last)",
      "\u001b[0;32m<ipython-input-191-e73830116f6e>\u001b[0m in \u001b[0;36m<module>\u001b[0;34m\u001b[0m\n\u001b[0;32m----> 1\u001b[0;31m \u001b[0mplt\u001b[0m\u001b[0;34m.\u001b[0m\u001b[0mplot\u001b[0m\u001b[0;34m(\u001b[0m\u001b[0mpredictDates\u001b[0m\u001b[0;34m,\u001b[0m \u001b[0minv_y\u001b[0m\u001b[0;34m,\u001b[0m \u001b[0mlabel\u001b[0m\u001b[0;34m=\u001b[0m \u001b[0;34m'Actual Price'\u001b[0m\u001b[0;34m)\u001b[0m\u001b[0;34m\u001b[0m\u001b[0;34m\u001b[0m\u001b[0m\n\u001b[0m\u001b[1;32m      2\u001b[0m \u001b[0mplt\u001b[0m\u001b[0;34m.\u001b[0m\u001b[0mplot\u001b[0m\u001b[0;34m(\u001b[0m\u001b[0mpredictDates\u001b[0m\u001b[0;34m,\u001b[0m \u001b[0minv_yhat\u001b[0m\u001b[0;34m,\u001b[0m \u001b[0mlable\u001b[0m\u001b[0;34m=\u001b[0m \u001b[0;34m'Multi Predict Price'\u001b[0m\u001b[0;34m)\u001b[0m\u001b[0;34m\u001b[0m\u001b[0;34m\u001b[0m\u001b[0m\n\u001b[1;32m      3\u001b[0m \u001b[0mplot\u001b[0m\u001b[0;34m.\u001b[0m\u001b[0mplot\u001b[0m\u001b[0;34m(\u001b[0m\u001b[0mpredictDates\u001b[0m\u001b[0;34m,\u001b[0m \u001b[0myhat_reshape\u001b[0m\u001b[0;34m,\u001b[0m \u001b[0mlabel\u001b[0m\u001b[0;34m=\u001b[0m \u001b[0;34m'Predict Price'\u001b[0m\u001b[0;34m)\u001b[0m\u001b[0;34m\u001b[0m\u001b[0;34m\u001b[0m\u001b[0m\n",
      "\u001b[0;32m~/anaconda3/lib/python3.8/site-packages/matplotlib/pyplot.py\u001b[0m in \u001b[0;36mplot\u001b[0;34m(scalex, scaley, data, *args, **kwargs)\u001b[0m\n\u001b[1;32m   2759\u001b[0m \u001b[0;34m@\u001b[0m\u001b[0mdocstring\u001b[0m\u001b[0;34m.\u001b[0m\u001b[0mcopy\u001b[0m\u001b[0;34m(\u001b[0m\u001b[0mAxes\u001b[0m\u001b[0;34m.\u001b[0m\u001b[0mplot\u001b[0m\u001b[0;34m)\u001b[0m\u001b[0;34m\u001b[0m\u001b[0;34m\u001b[0m\u001b[0m\n\u001b[1;32m   2760\u001b[0m \u001b[0;32mdef\u001b[0m \u001b[0mplot\u001b[0m\u001b[0;34m(\u001b[0m\u001b[0;34m*\u001b[0m\u001b[0margs\u001b[0m\u001b[0;34m,\u001b[0m \u001b[0mscalex\u001b[0m\u001b[0;34m=\u001b[0m\u001b[0;32mTrue\u001b[0m\u001b[0;34m,\u001b[0m \u001b[0mscaley\u001b[0m\u001b[0;34m=\u001b[0m\u001b[0;32mTrue\u001b[0m\u001b[0;34m,\u001b[0m \u001b[0mdata\u001b[0m\u001b[0;34m=\u001b[0m\u001b[0;32mNone\u001b[0m\u001b[0;34m,\u001b[0m \u001b[0;34m**\u001b[0m\u001b[0mkwargs\u001b[0m\u001b[0;34m)\u001b[0m\u001b[0;34m:\u001b[0m\u001b[0;34m\u001b[0m\u001b[0;34m\u001b[0m\u001b[0m\n\u001b[0;32m-> 2761\u001b[0;31m     return gca().plot(\n\u001b[0m\u001b[1;32m   2762\u001b[0m         *args, scalex=scalex, scaley=scaley, **({\"data\": data} if data\n\u001b[1;32m   2763\u001b[0m         is not None else {}), **kwargs)\n",
      "\u001b[0;32m~/anaconda3/lib/python3.8/site-packages/matplotlib/axes/_axes.py\u001b[0m in \u001b[0;36mplot\u001b[0;34m(self, scalex, scaley, data, *args, **kwargs)\u001b[0m\n\u001b[1;32m   1645\u001b[0m         \"\"\"\n\u001b[1;32m   1646\u001b[0m         \u001b[0mkwargs\u001b[0m \u001b[0;34m=\u001b[0m \u001b[0mcbook\u001b[0m\u001b[0;34m.\u001b[0m\u001b[0mnormalize_kwargs\u001b[0m\u001b[0;34m(\u001b[0m\u001b[0mkwargs\u001b[0m\u001b[0;34m,\u001b[0m \u001b[0mmlines\u001b[0m\u001b[0;34m.\u001b[0m\u001b[0mLine2D\u001b[0m\u001b[0;34m)\u001b[0m\u001b[0;34m\u001b[0m\u001b[0;34m\u001b[0m\u001b[0m\n\u001b[0;32m-> 1647\u001b[0;31m         \u001b[0mlines\u001b[0m \u001b[0;34m=\u001b[0m \u001b[0;34m[\u001b[0m\u001b[0;34m*\u001b[0m\u001b[0mself\u001b[0m\u001b[0;34m.\u001b[0m\u001b[0m_get_lines\u001b[0m\u001b[0;34m(\u001b[0m\u001b[0;34m*\u001b[0m\u001b[0margs\u001b[0m\u001b[0;34m,\u001b[0m \u001b[0mdata\u001b[0m\u001b[0;34m=\u001b[0m\u001b[0mdata\u001b[0m\u001b[0;34m,\u001b[0m \u001b[0;34m**\u001b[0m\u001b[0mkwargs\u001b[0m\u001b[0;34m)\u001b[0m\u001b[0;34m]\u001b[0m\u001b[0;34m\u001b[0m\u001b[0;34m\u001b[0m\u001b[0m\n\u001b[0m\u001b[1;32m   1648\u001b[0m         \u001b[0;32mfor\u001b[0m \u001b[0mline\u001b[0m \u001b[0;32min\u001b[0m \u001b[0mlines\u001b[0m\u001b[0;34m:\u001b[0m\u001b[0;34m\u001b[0m\u001b[0;34m\u001b[0m\u001b[0m\n\u001b[1;32m   1649\u001b[0m             \u001b[0mself\u001b[0m\u001b[0;34m.\u001b[0m\u001b[0madd_line\u001b[0m\u001b[0;34m(\u001b[0m\u001b[0mline\u001b[0m\u001b[0;34m)\u001b[0m\u001b[0;34m\u001b[0m\u001b[0;34m\u001b[0m\u001b[0m\n",
      "\u001b[0;32m~/anaconda3/lib/python3.8/site-packages/matplotlib/axes/_base.py\u001b[0m in \u001b[0;36m__call__\u001b[0;34m(self, *args, **kwargs)\u001b[0m\n\u001b[1;32m    214\u001b[0m                 \u001b[0mthis\u001b[0m \u001b[0;34m+=\u001b[0m \u001b[0margs\u001b[0m\u001b[0;34m[\u001b[0m\u001b[0;36m0\u001b[0m\u001b[0;34m]\u001b[0m\u001b[0;34m,\u001b[0m\u001b[0;34m\u001b[0m\u001b[0;34m\u001b[0m\u001b[0m\n\u001b[1;32m    215\u001b[0m                 \u001b[0margs\u001b[0m \u001b[0;34m=\u001b[0m \u001b[0margs\u001b[0m\u001b[0;34m[\u001b[0m\u001b[0;36m1\u001b[0m\u001b[0;34m:\u001b[0m\u001b[0;34m]\u001b[0m\u001b[0;34m\u001b[0m\u001b[0;34m\u001b[0m\u001b[0m\n\u001b[0;32m--> 216\u001b[0;31m             \u001b[0;32myield\u001b[0m \u001b[0;32mfrom\u001b[0m \u001b[0mself\u001b[0m\u001b[0;34m.\u001b[0m\u001b[0m_plot_args\u001b[0m\u001b[0;34m(\u001b[0m\u001b[0mthis\u001b[0m\u001b[0;34m,\u001b[0m \u001b[0mkwargs\u001b[0m\u001b[0;34m)\u001b[0m\u001b[0;34m\u001b[0m\u001b[0;34m\u001b[0m\u001b[0m\n\u001b[0m\u001b[1;32m    217\u001b[0m \u001b[0;34m\u001b[0m\u001b[0m\n\u001b[1;32m    218\u001b[0m     \u001b[0;32mdef\u001b[0m \u001b[0mget_next_color\u001b[0m\u001b[0;34m(\u001b[0m\u001b[0mself\u001b[0m\u001b[0;34m)\u001b[0m\u001b[0;34m:\u001b[0m\u001b[0;34m\u001b[0m\u001b[0;34m\u001b[0m\u001b[0m\n",
      "\u001b[0;32m~/anaconda3/lib/python3.8/site-packages/matplotlib/axes/_base.py\u001b[0m in \u001b[0;36m_plot_args\u001b[0;34m(self, tup, kwargs)\u001b[0m\n\u001b[1;32m    340\u001b[0m \u001b[0;34m\u001b[0m\u001b[0m\n\u001b[1;32m    341\u001b[0m         \u001b[0;32mif\u001b[0m \u001b[0mx\u001b[0m\u001b[0;34m.\u001b[0m\u001b[0mshape\u001b[0m\u001b[0;34m[\u001b[0m\u001b[0;36m0\u001b[0m\u001b[0;34m]\u001b[0m \u001b[0;34m!=\u001b[0m \u001b[0my\u001b[0m\u001b[0;34m.\u001b[0m\u001b[0mshape\u001b[0m\u001b[0;34m[\u001b[0m\u001b[0;36m0\u001b[0m\u001b[0;34m]\u001b[0m\u001b[0;34m:\u001b[0m\u001b[0;34m\u001b[0m\u001b[0;34m\u001b[0m\u001b[0m\n\u001b[0;32m--> 342\u001b[0;31m             raise ValueError(f\"x and y must have same first dimension, but \"\n\u001b[0m\u001b[1;32m    343\u001b[0m                              f\"have shapes {x.shape} and {y.shape}\")\n\u001b[1;32m    344\u001b[0m         \u001b[0;32mif\u001b[0m \u001b[0mx\u001b[0m\u001b[0;34m.\u001b[0m\u001b[0mndim\u001b[0m \u001b[0;34m>\u001b[0m \u001b[0;36m2\u001b[0m \u001b[0;32mor\u001b[0m \u001b[0my\u001b[0m\u001b[0;34m.\u001b[0m\u001b[0mndim\u001b[0m \u001b[0;34m>\u001b[0m \u001b[0;36m2\u001b[0m\u001b[0;34m:\u001b[0m\u001b[0;34m\u001b[0m\u001b[0;34m\u001b[0m\u001b[0m\n",
      "\u001b[0;31mValueError\u001b[0m: x and y must have same first dimension, but have shapes (295,) and (296,)"
     ]
    },
    {
     "data": {
      "image/png": "[encoded data removed]",
      "text/plain": [
       "<Figure size 432x288 with 1 Axes>"
      ]
     },
     "metadata": {
      "needs_background": "light"
     },
     "output_type": "display_data"
    }
   ],
   "source": [
    "plt.plot(predictDates, inv_y, label= 'Actual Price')\n",
    "plt.plot(predictDates, inv_yhat, lable= 'Multi Predict Price')\n",
    "plot.plot(predictDates, yhat_reshape, label= 'Predict Price')"
   ]
  },
  {
   "cell_type": "code",
   "execution_count": null,
   "metadata": {},
   "outputs": [],
   "source": []
  },
  {
   "cell_type": "code",
   "execution_count": null,
   "metadata": {},
   "outputs": [],
   "source": []
  },
  {
   "cell_type": "code",
   "execution_count": null,
   "metadata": {},
   "outputs": [],
   "source": []
  },
  {
   "cell_type": "code",
   "execution_count": null,
   "metadata": {},
   "outputs": [],
   "source": []
  },
  {
   "cell_type": "code",
   "execution_count": null,
   "metadata": {},
   "outputs": [],
   "source": []
  },
  {
   "cell_type": "code",
   "execution_count": null,
   "metadata": {},
   "outputs": [],
   "source": []
  },
  {
   "cell_type": "code",
   "execution_count": 15,
   "metadata": {},
   "outputs": [
    {
     "ename": "TypeError",
     "evalue": "no numeric data to plot",
     "output_type": "error",
     "traceback": [
      "\u001b[0;31m---------------------------------------------------------------------------\u001b[0m",
      "\u001b[0;31mTypeError\u001b[0m                                 Traceback (most recent call last)",
      "\u001b[0;32m<ipython-input-15-a671c7a3c379>\u001b[0m in \u001b[0;36m<module>\u001b[0;34m\u001b[0m\n\u001b[1;32m      2\u001b[0m \u001b[0;32mimport\u001b[0m \u001b[0mseaborn\u001b[0m \u001b[0;32mas\u001b[0m \u001b[0msns\u001b[0m\u001b[0;34m;\u001b[0m \u001b[0msns\u001b[0m\u001b[0;34m.\u001b[0m\u001b[0mset\u001b[0m\u001b[0;34m(\u001b[0m\u001b[0;34m)\u001b[0m\u001b[0;34m\u001b[0m\u001b[0;34m\u001b[0m\u001b[0m\n\u001b[1;32m      3\u001b[0m \u001b[0;34m\u001b[0m\u001b[0m\n\u001b[0;32m----> 4\u001b[0;31m \u001b[0mdf\u001b[0m\u001b[0;34m.\u001b[0m\u001b[0mloc\u001b[0m\u001b[0;34m[\u001b[0m\u001b[0;34m'2019'\u001b[0m\u001b[0;34m:\u001b[0m\u001b[0;34m'2018'\u001b[0m\u001b[0;34m]\u001b[0m\u001b[0;34m[\u001b[0m\u001b[0;34m'high'\u001b[0m\u001b[0;34m]\u001b[0m\u001b[0;34m.\u001b[0m\u001b[0mresample\u001b[0m\u001b[0;34m(\u001b[0m\u001b[0mrule\u001b[0m\u001b[0;34m=\u001b[0m\u001b[0;34m'T'\u001b[0m\u001b[0;34m)\u001b[0m\u001b[0;34m.\u001b[0m\u001b[0mmean\u001b[0m\u001b[0;34m(\u001b[0m\u001b[0;34m)\u001b[0m\u001b[0;34m.\u001b[0m\u001b[0mplot\u001b[0m\u001b[0;34m(\u001b[0m\u001b[0;34m)\u001b[0m\u001b[0;34m\u001b[0m\u001b[0;34m\u001b[0m\u001b[0m\n\u001b[0m",
      "\u001b[0;32m~/anaconda3/lib/python3.8/site-packages/pandas/plotting/_core.py\u001b[0m in \u001b[0;36m__call__\u001b[0;34m(self, *args, **kwargs)\u001b[0m\n\u001b[1;32m    792\u001b[0m                     \u001b[0mdata\u001b[0m\u001b[0;34m.\u001b[0m\u001b[0mcolumns\u001b[0m \u001b[0;34m=\u001b[0m \u001b[0mlabel_name\u001b[0m\u001b[0;34m\u001b[0m\u001b[0;34m\u001b[0m\u001b[0m\n\u001b[1;32m    793\u001b[0m \u001b[0;34m\u001b[0m\u001b[0m\n\u001b[0;32m--> 794\u001b[0;31m         \u001b[0;32mreturn\u001b[0m \u001b[0mplot_backend\u001b[0m\u001b[0;34m.\u001b[0m\u001b[0mplot\u001b[0m\u001b[0;34m(\u001b[0m\u001b[0mdata\u001b[0m\u001b[0;34m,\u001b[0m \u001b[0mkind\u001b[0m\u001b[0;34m=\u001b[0m\u001b[0mkind\u001b[0m\u001b[0;34m,\u001b[0m \u001b[0;34m**\u001b[0m\u001b[0mkwargs\u001b[0m\u001b[0;34m)\u001b[0m\u001b[0;34m\u001b[0m\u001b[0;34m\u001b[0m\u001b[0m\n\u001b[0m\u001b[1;32m    795\u001b[0m \u001b[0;34m\u001b[0m\u001b[0m\n\u001b[1;32m    796\u001b[0m     \u001b[0;32mdef\u001b[0m \u001b[0mline\u001b[0m\u001b[0;34m(\u001b[0m\u001b[0mself\u001b[0m\u001b[0;34m,\u001b[0m \u001b[0mx\u001b[0m\u001b[0;34m=\u001b[0m\u001b[0;32mNone\u001b[0m\u001b[0;34m,\u001b[0m \u001b[0my\u001b[0m\u001b[0;34m=\u001b[0m\u001b[0;32mNone\u001b[0m\u001b[0;34m,\u001b[0m \u001b[0;34m**\u001b[0m\u001b[0mkwargs\u001b[0m\u001b[0;34m)\u001b[0m\u001b[0;34m:\u001b[0m\u001b[0;34m\u001b[0m\u001b[0;34m\u001b[0m\u001b[0m\n",
      "\u001b[0;32m~/anaconda3/lib/python3.8/site-packages/pandas/plotting/_matplotlib/__init__.py\u001b[0m in \u001b[0;36mplot\u001b[0;34m(data, kind, **kwargs)\u001b[0m\n\u001b[1;32m     60\u001b[0m             \u001b[0mkwargs\u001b[0m\u001b[0;34m[\u001b[0m\u001b[0;34m\"ax\"\u001b[0m\u001b[0;34m]\u001b[0m \u001b[0;34m=\u001b[0m \u001b[0mgetattr\u001b[0m\u001b[0;34m(\u001b[0m\u001b[0max\u001b[0m\u001b[0;34m,\u001b[0m \u001b[0;34m\"left_ax\"\u001b[0m\u001b[0;34m,\u001b[0m \u001b[0max\u001b[0m\u001b[0;34m)\u001b[0m\u001b[0;34m\u001b[0m\u001b[0;34m\u001b[0m\u001b[0m\n\u001b[1;32m     61\u001b[0m     \u001b[0mplot_obj\u001b[0m \u001b[0;34m=\u001b[0m \u001b[0mPLOT_CLASSES\u001b[0m\u001b[0;34m[\u001b[0m\u001b[0mkind\u001b[0m\u001b[0;34m]\u001b[0m\u001b[0;34m(\u001b[0m\u001b[0mdata\u001b[0m\u001b[0;34m,\u001b[0m \u001b[0;34m**\u001b[0m\u001b[0mkwargs\u001b[0m\u001b[0;34m)\u001b[0m\u001b[0;34m\u001b[0m\u001b[0;34m\u001b[0m\u001b[0m\n\u001b[0;32m---> 62\u001b[0;31m     \u001b[0mplot_obj\u001b[0m\u001b[0;34m.\u001b[0m\u001b[0mgenerate\u001b[0m\u001b[0;34m(\u001b[0m\u001b[0;34m)\u001b[0m\u001b[0;34m\u001b[0m\u001b[0;34m\u001b[0m\u001b[0m\n\u001b[0m\u001b[1;32m     63\u001b[0m     \u001b[0mplot_obj\u001b[0m\u001b[0;34m.\u001b[0m\u001b[0mdraw\u001b[0m\u001b[0;34m(\u001b[0m\u001b[0;34m)\u001b[0m\u001b[0;34m\u001b[0m\u001b[0;34m\u001b[0m\u001b[0m\n\u001b[1;32m     64\u001b[0m     \u001b[0;32mreturn\u001b[0m \u001b[0mplot_obj\u001b[0m\u001b[0;34m.\u001b[0m\u001b[0mresult\u001b[0m\u001b[0;34m\u001b[0m\u001b[0;34m\u001b[0m\u001b[0m\n",
      "\u001b[0;32m~/anaconda3/lib/python3.8/site-packages/pandas/plotting/_matplotlib/core.py\u001b[0m in \u001b[0;36mgenerate\u001b[0;34m(self)\u001b[0m\n\u001b[1;32m    277\u001b[0m     \u001b[0;32mdef\u001b[0m \u001b[0mgenerate\u001b[0m\u001b[0;34m(\u001b[0m\u001b[0mself\u001b[0m\u001b[0;34m)\u001b[0m\u001b[0;34m:\u001b[0m\u001b[0;34m\u001b[0m\u001b[0;34m\u001b[0m\u001b[0m\n\u001b[1;32m    278\u001b[0m         \u001b[0mself\u001b[0m\u001b[0;34m.\u001b[0m\u001b[0m_args_adjust\u001b[0m\u001b[0;34m(\u001b[0m\u001b[0;34m)\u001b[0m\u001b[0;34m\u001b[0m\u001b[0;34m\u001b[0m\u001b[0m\n\u001b[0;32m--> 279\u001b[0;31m         \u001b[0mself\u001b[0m\u001b[0;34m.\u001b[0m\u001b[0m_compute_plot_data\u001b[0m\u001b[0;34m(\u001b[0m\u001b[0;34m)\u001b[0m\u001b[0;34m\u001b[0m\u001b[0;34m\u001b[0m\u001b[0m\n\u001b[0m\u001b[1;32m    280\u001b[0m         \u001b[0mself\u001b[0m\u001b[0;34m.\u001b[0m\u001b[0m_setup_subplots\u001b[0m\u001b[0;34m(\u001b[0m\u001b[0;34m)\u001b[0m\u001b[0;34m\u001b[0m\u001b[0;34m\u001b[0m\u001b[0m\n\u001b[1;32m    281\u001b[0m         \u001b[0mself\u001b[0m\u001b[0;34m.\u001b[0m\u001b[0m_make_plot\u001b[0m\u001b[0;34m(\u001b[0m\u001b[0;34m)\u001b[0m\u001b[0;34m\u001b[0m\u001b[0;34m\u001b[0m\u001b[0m\n",
      "\u001b[0;32m~/anaconda3/lib/python3.8/site-packages/pandas/plotting/_matplotlib/core.py\u001b[0m in \u001b[0;36m_compute_plot_data\u001b[0;34m(self)\u001b[0m\n\u001b[1;32m    412\u001b[0m         \u001b[0;31m# no non-numeric frames or series allowed\u001b[0m\u001b[0;34m\u001b[0m\u001b[0;34m\u001b[0m\u001b[0;34m\u001b[0m\u001b[0m\n\u001b[1;32m    413\u001b[0m         \u001b[0;32mif\u001b[0m \u001b[0mis_empty\u001b[0m\u001b[0;34m:\u001b[0m\u001b[0;34m\u001b[0m\u001b[0;34m\u001b[0m\u001b[0m\n\u001b[0;32m--> 414\u001b[0;31m             \u001b[0;32mraise\u001b[0m \u001b[0mTypeError\u001b[0m\u001b[0;34m(\u001b[0m\u001b[0;34m\"no numeric data to plot\"\u001b[0m\u001b[0;34m)\u001b[0m\u001b[0;34m\u001b[0m\u001b[0;34m\u001b[0m\u001b[0m\n\u001b[0m\u001b[1;32m    415\u001b[0m \u001b[0;34m\u001b[0m\u001b[0m\n\u001b[1;32m    416\u001b[0m         \u001b[0;31m# GH25587: cast ExtensionArray of pandas (IntegerArray, etc.) to\u001b[0m\u001b[0;34m\u001b[0m\u001b[0;34m\u001b[0m\u001b[0;34m\u001b[0m\u001b[0m\n",
      "\u001b[0;31mTypeError\u001b[0m: no numeric data to plot"
     ]
    }
   ],
   "source": [
    "#sns.set(style=\"darkgrid\")\n",
    "import seaborn as sns; sns.set()\n",
    "\n",
    "df.loc['2019':'2018']['high'].resample(rule='T').mean().plot()"
   ]
  },
  {
   "cell_type": "code",
   "execution_count": 145,
   "metadata": {},
   "outputs": [
    {
     "data": {
      "text/plain": [
       "<matplotlib.axes._subplots.AxesSubplot at 0x7f37523ac6d0>"
      ]
     },
     "execution_count": 145,
     "metadata": {},
     "output_type": "execute_result"
    },
    {
     "data": {
      "image/png": "[encoded data removed]",
      "text/plain": [
       "<Figure size 432x288 with 1 Axes>"
      ]
     },
     "metadata": {},
     "output_type": "display_data"
    }
   ],
   "source": [
    "data1=df.loc['2017-07-02']\n",
    "data1['high'].plot(style=\"-\")\n",
    "data1['high'].resample('BM').mean().plot(style=\":\")"
   ]
  },
  {
   "cell_type": "code",
   "execution_count": 146,
   "metadata": {},
   "outputs": [],
   "source": [
    "df=df.fillna(method='ffill')"
   ]
  },
  {
   "cell_type": "code",
   "execution_count": 147,
   "metadata": {},
   "outputs": [
    {
     "data": {
      "text/html": [
       "<div>\n",
       "<style scoped>\n",
       "    .dataframe tbody tr th:only-of-type {\n",
       "        vertical-align: middle;\n",
       "    }\n",
       "\n",
       "    .dataframe tbody tr th {\n",
       "        vertical-align: top;\n",
       "    }\n",
       "\n",
       "    .dataframe thead th {\n",
       "        text-align: right;\n",
       "    }\n",
       "</style>\n",
       "<table border=\"1\" class=\"dataframe\">\n",
       "  <thead>\n",
       "    <tr style=\"text-align: right;\">\n",
       "      <th></th>\n",
       "      <th>close</th>\n",
       "      <th>high</th>\n",
       "      <th>low</th>\n",
       "      <th>open</th>\n",
       "      <th>trades</th>\n",
       "      <th>turnover</th>\n",
       "      <th>volume</th>\n",
       "      <th>vwap</th>\n",
       "    </tr>\n",
       "  </thead>\n",
       "  <tbody>\n",
       "    <tr>\n",
       "      <th>close</th>\n",
       "      <td>1.000000</td>\n",
       "      <td>0.999984</td>\n",
       "      <td>0.999982</td>\n",
       "      <td>0.999974</td>\n",
       "      <td>0.102216</td>\n",
       "      <td>0.054937</td>\n",
       "      <td>0.086500</td>\n",
       "      <td>0.999993</td>\n",
       "    </tr>\n",
       "    <tr>\n",
       "      <th>high</th>\n",
       "      <td>0.999984</td>\n",
       "      <td>1.000000</td>\n",
       "      <td>0.999958</td>\n",
       "      <td>0.999984</td>\n",
       "      <td>0.105779</td>\n",
       "      <td>0.058402</td>\n",
       "      <td>0.090004</td>\n",
       "      <td>0.999989</td>\n",
       "    </tr>\n",
       "    <tr>\n",
       "      <th>low</th>\n",
       "      <td>0.999982</td>\n",
       "      <td>0.999958</td>\n",
       "      <td>1.000000</td>\n",
       "      <td>0.999974</td>\n",
       "      <td>0.098112</td>\n",
       "      <td>0.051040</td>\n",
       "      <td>0.082576</td>\n",
       "      <td>0.999989</td>\n",
       "    </tr>\n",
       "    <tr>\n",
       "      <th>open</th>\n",
       "      <td>0.999974</td>\n",
       "      <td>0.999984</td>\n",
       "      <td>0.999974</td>\n",
       "      <td>1.000000</td>\n",
       "      <td>0.102608</td>\n",
       "      <td>0.055556</td>\n",
       "      <td>0.087170</td>\n",
       "      <td>0.999988</td>\n",
       "    </tr>\n",
       "    <tr>\n",
       "      <th>trades</th>\n",
       "      <td>0.102216</td>\n",
       "      <td>0.105779</td>\n",
       "      <td>0.098112</td>\n",
       "      <td>0.102608</td>\n",
       "      <td>1.000000</td>\n",
       "      <td>0.932647</td>\n",
       "      <td>0.930092</td>\n",
       "      <td>0.101969</td>\n",
       "    </tr>\n",
       "    <tr>\n",
       "      <th>turnover</th>\n",
       "      <td>0.054937</td>\n",
       "      <td>0.058402</td>\n",
       "      <td>0.051040</td>\n",
       "      <td>0.055556</td>\n",
       "      <td>0.932647</td>\n",
       "      <td>1.000000</td>\n",
       "      <td>0.995718</td>\n",
       "      <td>0.054709</td>\n",
       "    </tr>\n",
       "    <tr>\n",
       "      <th>volume</th>\n",
       "      <td>0.086500</td>\n",
       "      <td>0.090004</td>\n",
       "      <td>0.082576</td>\n",
       "      <td>0.087170</td>\n",
       "      <td>0.930092</td>\n",
       "      <td>0.995718</td>\n",
       "      <td>1.000000</td>\n",
       "      <td>0.086277</td>\n",
       "    </tr>\n",
       "    <tr>\n",
       "      <th>vwap</th>\n",
       "      <td>0.999993</td>\n",
       "      <td>0.999989</td>\n",
       "      <td>0.999989</td>\n",
       "      <td>0.999988</td>\n",
       "      <td>0.101969</td>\n",
       "      <td>0.054709</td>\n",
       "      <td>0.086277</td>\n",
       "      <td>1.000000</td>\n",
       "    </tr>\n",
       "  </tbody>\n",
       "</table>\n",
       "</div>"
      ],
      "text/plain": [
       "             close      high       low      open    trades  turnover  \\\n",
       "close     1.000000  0.999984  0.999982  0.999974  0.102216  0.054937   \n",
       "high      0.999984  1.000000  0.999958  0.999984  0.105779  0.058402   \n",
       "low       0.999982  0.999958  1.000000  0.999974  0.098112  0.051040   \n",
       "open      0.999974  0.999984  0.999974  1.000000  0.102608  0.055556   \n",
       "trades    0.102216  0.105779  0.098112  0.102608  1.000000  0.932647   \n",
       "turnover  0.054937  0.058402  0.051040  0.055556  0.932647  1.000000   \n",
       "volume    0.086500  0.090004  0.082576  0.087170  0.930092  0.995718   \n",
       "vwap      0.999993  0.999989  0.999989  0.999988  0.101969  0.054709   \n",
       "\n",
       "            volume      vwap  \n",
       "close     0.086500  0.999993  \n",
       "high      0.090004  0.999989  \n",
       "low       0.082576  0.999989  \n",
       "open      0.087170  0.999988  \n",
       "trades    0.930092  0.101969  \n",
       "turnover  0.995718  0.054709  \n",
       "volume    1.000000  0.086277  \n",
       "vwap      0.086277  1.000000  "
      ]
     },
     "execution_count": 147,
     "metadata": {},
     "output_type": "execute_result"
    }
   ],
   "source": [
    "df.corr()"
   ]
  },
  {
   "cell_type": "code",
   "execution_count": 16,
   "metadata": {},
   "outputs": [],
   "source": [
    "import numpy\n",
    "from numpy import array\n",
    "import matplotlib.pyplot as plt\n",
    "from pandas import read_csv\n",
    "import math\n",
    "from keras.models import Sequential\n",
    "from keras.layers import Dense\n",
    "from keras.layers import LSTM,GRU\n",
    "from sklearn.preprocessing import MinMaxScaler,RobustScaler,StandardScaler\n",
    "from sklearn.metrics import mean_squared_error\n",
    "from pandas import Series"
   ]
  },
  {
   "cell_type": "code",
   "execution_count": 17,
   "metadata": {},
   "outputs": [],
   "source": [
    "data=df['close']"
   ]
  },
  {
   "cell_type": "code",
   "execution_count": 18,
   "metadata": {},
   "outputs": [],
   "source": [
    "def split_sequence(sequence, n_steps_in, n_steps_out):\n",
    "\tX, y = list(), list()\n",
    "\tfor i in range(len(sequence)):\n",
    "\t\t# find the end of this pattern\n",
    "\t\tend_ix = i + n_steps_in\n",
    "\t\tout_end_ix = end_ix + n_steps_out\n",
    "\t\t# check if we are beyond the sequence\n",
    "\t\tif out_end_ix > len(sequence):\n",
    "\t\t\tbreak\n",
    "\t\t# gather input and output parts of the pattern\n",
    "\t\tseq_x, seq_y = sequence[i:end_ix], sequence[end_ix:out_end_ix]\n",
    "\t\tX.append(seq_x)\n",
    "\t\ty.append(seq_y)\n",
    "\treturn array(X), array(y)"
   ]
  },
  {
   "cell_type": "code",
   "execution_count": 19,
   "metadata": {},
   "outputs": [],
   "source": [
    "numpy.random.seed(0)\n",
    "\n",
    "# load the dataset\n",
    "dataframe = data\n",
    "dataset = dataframe.values\n",
    "dataset = dataset.astype('float64').reshape(-1, 1)\n",
    "\n",
    "# normalize the dataset\n",
    "scaler = MinMaxScaler()\n",
    "#scaler=RobustScaler()\n",
    "#scaler=StandardScaler()\n",
    "dataset = scaler.fit_transform(dataset)\n",
    "\n",
    "# split into train and test sets\n",
    "train_size = int(len(dataset) * 0.67)\n",
    "test_size = len(dataset) - train_size\n",
    "train, test = dataset[0:train_size,:], dataset[train_size:len(dataset),:]\n",
    "\n",
    "n_steps_in=3\n",
    "n_steps_out=1\n",
    "trainX, trainY =split_sequence(train.flatten(), n_steps_in, n_steps_out)\n",
    "testX, testY = split_sequence(test.flatten(), n_steps_in, n_steps_out)\n"
   ]
  },
  {
   "cell_type": "code",
   "execution_count": 20,
   "metadata": {},
   "outputs": [
    {
     "data": {
      "text/plain": [
       "array([[0.37457723],\n",
       "       [0.37598647],\n",
       "       [0.37669109],\n",
       "       ...,\n",
       "       [0.27353439],\n",
       "       [0.27367531],\n",
       "       [0.27353439]])"
      ]
     },
     "execution_count": 20,
     "metadata": {},
     "output_type": "execute_result"
    }
   ],
   "source": [
    "trainY"
   ]
  },
  {
   "cell_type": "code",
   "execution_count": 21,
   "metadata": {},
   "outputs": [
    {
     "data": {
      "text/plain": [
       "((66974, 3), (66974, 1))"
      ]
     },
     "execution_count": 21,
     "metadata": {},
     "output_type": "execute_result"
    }
   ],
   "source": [
    "trainX.shape,trainY.shape"
   ]
  },
  {
   "cell_type": "code",
   "execution_count": 22,
   "metadata": {},
   "outputs": [
    {
     "data": {
      "text/plain": [
       "((32986, 3), (32986, 1))"
      ]
     },
     "execution_count": 22,
     "metadata": {},
     "output_type": "execute_result"
    }
   ],
   "source": [
    "testX.shape,testY.shape"
   ]
  },
  {
   "cell_type": "code",
   "execution_count": 23,
   "metadata": {},
   "outputs": [],
   "source": [
    "n_features = 1\n",
    "trainX = trainX.reshape((trainX.shape[0], trainX.shape[1], n_features))\n",
    "testX = testX.reshape((testX.shape[0], testX.shape[1], n_features))"
   ]
  },
  {
   "cell_type": "code",
   "execution_count": 24,
   "metadata": {},
   "outputs": [
    {
     "data": {
      "text/plain": [
       "((66974, 3, 1), (66974, 1), (32986, 3, 1), (32986, 1))"
      ]
     },
     "execution_count": 24,
     "metadata": {},
     "output_type": "execute_result"
    }
   ],
   "source": [
    "trainX.shape,trainY.shape,testX.shape,testY.shape"
   ]
  },
  {
   "cell_type": "code",
   "execution_count": 25,
   "metadata": {},
   "outputs": [
    {
     "name": "stdout",
     "output_type": "stream",
     "text": [
      "Epoch 1/100\n",
      "1340/1340 [==============================] - 22s 17ms/step - loss: 7.8832e-04\n",
      "Epoch 2/100\n",
      "1340/1340 [==============================] - 23s 17ms/step - loss: 7.3147e-04\n",
      "Epoch 3/100\n",
      "1340/1340 [==============================] - 21s 15ms/step - loss: 0.0012\n",
      "Epoch 4/100\n",
      "1340/1340 [==============================] - 23s 17ms/step - loss: 0.0012\n",
      "Epoch 5/100\n",
      "1340/1340 [==============================] - 21s 16ms/step - loss: 0.0014\n",
      "Epoch 6/100\n",
      "1340/1340 [==============================] - 24s 18ms/step - loss: 0.0016\n",
      "Epoch 7/100\n",
      "1340/1340 [==============================] - 21s 16ms/step - loss: 0.0018\n",
      "Epoch 8/100\n",
      "1340/1340 [==============================] - 21s 15ms/step - loss: 0.0020\n",
      "Epoch 9/100\n",
      "1340/1340 [==============================] - 22s 16ms/step - loss: 0.0022\n",
      "Epoch 10/100\n",
      "1340/1340 [==============================] - 22s 16ms/step - loss: 0.0021\n",
      "Epoch 11/100\n",
      "1340/1340 [==============================] - 21s 16ms/step - loss: 0.0029\n",
      "Epoch 12/100\n",
      "1340/1340 [==============================] - 23s 17ms/step - loss: 0.0031\n",
      "Epoch 13/100\n",
      "1340/1340 [==============================] - 21s 16ms/step - loss: 0.0029\n",
      "Epoch 14/100\n",
      "1340/1340 [==============================] - 23s 17ms/step - loss: 0.0026\n",
      "Epoch 15/100\n",
      "1340/1340 [==============================] - 21s 16ms/step - loss: 0.0022\n",
      "Epoch 16/100\n",
      "1340/1340 [==============================] - 23s 17ms/step - loss: 0.0021\n",
      "Epoch 17/100\n",
      "1340/1340 [==============================] - 21s 16ms/step - loss: 0.0019\n",
      "Epoch 18/100\n",
      "1340/1340 [==============================] - 20s 15ms/step - loss: 0.0016\n",
      "Epoch 19/100\n",
      "1340/1340 [==============================] - 21s 15ms/step - loss: 0.0014\n",
      "Epoch 20/100\n",
      "1340/1340 [==============================] - 20s 15ms/step - loss: 3.9933e-04\n",
      "Epoch 21/100\n",
      "1340/1340 [==============================] - 20s 15ms/step - loss: 2.1259e-04\n",
      "Epoch 22/100\n",
      "1340/1340 [==============================] - 20s 15ms/step - loss: 1.3401e-04\n",
      "Epoch 23/100\n",
      "1340/1340 [==============================] - 20s 15ms/step - loss: 1.0332e-04\n",
      "Epoch 24/100\n",
      "1340/1340 [==============================] - 20s 15ms/step - loss: 9.7489e-05\n",
      "Epoch 25/100\n",
      "1340/1340 [==============================] - 20s 15ms/step - loss: 1.0284e-04\n",
      "Epoch 26/100\n",
      "1340/1340 [==============================] - 20s 15ms/step - loss: 1.1497e-04\n",
      "Epoch 27/100\n",
      "1340/1340 [==============================] - 20s 15ms/step - loss: 1.3072e-04\n",
      "Epoch 28/100\n",
      "1340/1340 [==============================] - 20s 15ms/step - loss: 1.5028e-04\n",
      "Epoch 29/100\n",
      "1340/1340 [==============================] - 20s 15ms/step - loss: 1.7297e-04\n",
      "Epoch 30/100\n",
      "1340/1340 [==============================] - 20s 15ms/step - loss: 1.9362e-04\n",
      "Epoch 31/100\n",
      "1340/1340 [==============================] - 20s 15ms/step - loss: 2.1903e-04\n",
      "Epoch 32/100\n",
      "1340/1340 [==============================] - 20s 15ms/step - loss: 2.2467e-04\n",
      "Epoch 33/100\n",
      "1340/1340 [==============================] - 20s 15ms/step - loss: 2.3969e-04\n",
      "Epoch 34/100\n",
      "1340/1340 [==============================] - 20s 15ms/step - loss: 2.4408e-04\n",
      "Epoch 35/100\n",
      "1340/1340 [==============================] - 20s 15ms/step - loss: 2.2480e-04\n",
      "Epoch 36/100\n",
      "1340/1340 [==============================] - 20s 15ms/step - loss: 2.1483e-04\n",
      "Epoch 37/100\n",
      "1340/1340 [==============================] - 20s 15ms/step - loss: 1.8749e-04\n",
      "Epoch 38/100\n",
      "1340/1340 [==============================] - 21s 15ms/step - loss: 1.7457e-04\n",
      "Epoch 39/100\n",
      "1340/1340 [==============================] - 20s 15ms/step - loss: 1.5262e-04\n",
      "Epoch 40/100\n",
      "1340/1340 [==============================] - 20s 15ms/step - loss: 1.3996e-04\n",
      "Epoch 41/100\n",
      "1340/1340 [==============================] - 20s 15ms/step - loss: 1.2061e-04\n",
      "Epoch 42/100\n",
      "1340/1340 [==============================] - 20s 15ms/step - loss: 1.0747e-04\n",
      "Epoch 43/100\n",
      "1340/1340 [==============================] - 20s 15ms/step - loss: 9.2368e-05\n",
      "Epoch 44/100\n",
      "1340/1340 [==============================] - 20s 15ms/step - loss: 7.8101e-05\n",
      "Epoch 45/100\n",
      "1340/1340 [==============================] - 20s 15ms/step - loss: 6.4916e-05\n",
      "Epoch 46/100\n",
      "1340/1340 [==============================] - 20s 15ms/step - loss: 5.4754e-05\n",
      "Epoch 47/100\n",
      "1340/1340 [==============================] - 20s 15ms/step - loss: 4.8231e-05\n",
      "Epoch 48/100\n",
      "1340/1340 [==============================] - 20s 15ms/step - loss: 4.4593e-05\n",
      "Epoch 49/100\n",
      "1340/1340 [==============================] - 20s 15ms/step - loss: 4.2595e-05\n",
      "Epoch 50/100\n",
      "1340/1340 [==============================] - 20s 15ms/step - loss: 4.1349e-05\n",
      "Epoch 51/100\n",
      "1340/1340 [==============================] - 20s 15ms/step - loss: 4.0441e-05\n",
      "Epoch 52/100\n",
      "1340/1340 [==============================] - 20s 15ms/step - loss: 3.9707e-05\n",
      "Epoch 53/100\n",
      "1340/1340 [==============================] - 20s 15ms/step - loss: 3.9078e-05\n",
      "Epoch 54/100\n",
      "1340/1340 [==============================] - 20s 15ms/step - loss: 3.8516e-05\n",
      "Epoch 55/100\n",
      "1340/1340 [==============================] - 20s 15ms/step - loss: 3.8002e-05\n",
      "Epoch 56/100\n",
      "1340/1340 [==============================] - 20s 15ms/step - loss: 3.7520e-05\n",
      "Epoch 57/100\n",
      "1340/1340 [==============================] - 20s 15ms/step - loss: 3.7062e-05\n",
      "Epoch 58/100\n",
      "1340/1340 [==============================] - 20s 15ms/step - loss: 3.6623e-05\n",
      "Epoch 59/100\n",
      "1340/1340 [==============================] - 20s 15ms/step - loss: 3.6205e-05\n",
      "Epoch 60/100\n",
      "1340/1340 [==============================] - 20s 15ms/step - loss: 3.5812e-05\n",
      "Epoch 61/100\n",
      "1340/1340 [==============================] - 20s 15ms/step - loss: 3.5441e-05\n",
      "Epoch 62/100\n",
      "1340/1340 [==============================] - 20s 15ms/step - loss: 3.5090e-05\n",
      "Epoch 63/100\n",
      "1340/1340 [==============================] - 20s 15ms/step - loss: 3.4755e-05\n",
      "Epoch 64/100\n",
      "1340/1340 [==============================] - 20s 15ms/step - loss: 3.4434e-05\n",
      "Epoch 65/100\n",
      "1340/1340 [==============================] - 20s 15ms/step - loss: 3.4125e-05\n",
      "Epoch 66/100\n",
      "1340/1340 [==============================] - 20s 15ms/step - loss: 3.3828e-05\n",
      "Epoch 67/100\n",
      "1340/1340 [==============================] - 20s 15ms/step - loss: 3.3540e-05\n",
      "Epoch 68/100\n",
      "1340/1340 [==============================] - 20s 15ms/step - loss: 3.3262e-05\n",
      "Epoch 69/100\n",
      "1340/1340 [==============================] - 20s 15ms/step - loss: 3.2992e-05\n",
      "Epoch 70/100\n",
      "1340/1340 [==============================] - 20s 15ms/step - loss: 3.2731e-05\n",
      "Epoch 71/100\n",
      "1340/1340 [==============================] - 20s 15ms/step - loss: 3.2476e-05\n",
      "Epoch 72/100\n",
      "1340/1340 [==============================] - 20s 15ms/step - loss: 3.2229e-05\n",
      "Epoch 73/100\n",
      "1340/1340 [==============================] - 20s 15ms/step - loss: 3.1988e-05\n",
      "Epoch 74/100\n",
      "1340/1340 [==============================] - 20s 15ms/step - loss: 3.1754e-05\n",
      "Epoch 75/100\n",
      "1340/1340 [==============================] - 20s 15ms/step - loss: 3.1525e-05\n",
      "Epoch 76/100\n",
      "1340/1340 [==============================] - 20s 15ms/step - loss: 3.1302e-05\n",
      "Epoch 77/100\n",
      "1340/1340 [==============================] - 20s 15ms/step - loss: 3.1084e-05\n",
      "Epoch 78/100\n",
      "1340/1340 [==============================] - 20s 15ms/step - loss: 3.0872e-05\n",
      "Epoch 79/100\n",
      "1340/1340 [==============================] - 20s 15ms/step - loss: 3.0664e-05\n",
      "Epoch 80/100\n",
      "1340/1340 [==============================] - 20s 15ms/step - loss: 3.0461e-05\n",
      "Epoch 81/100\n",
      "1340/1340 [==============================] - 20s 15ms/step - loss: 3.0263e-05\n",
      "Epoch 82/100\n",
      "1340/1340 [==============================] - 21s 15ms/step - loss: 3.0070e-05\n",
      "Epoch 83/100\n",
      "1340/1340 [==============================] - 20s 15ms/step - loss: 2.9880e-05\n",
      "Epoch 84/100\n",
      "1340/1340 [==============================] - 20s 15ms/step - loss: 2.9695e-05\n",
      "Epoch 85/100\n",
      "1340/1340 [==============================] - 20s 15ms/step - loss: 2.9513e-05\n",
      "Epoch 86/100\n",
      "1340/1340 [==============================] - 20s 15ms/step - loss: 2.9336e-05\n",
      "Epoch 87/100\n",
      "1340/1340 [==============================] - 20s 15ms/step - loss: 2.9162e-05\n",
      "Epoch 88/100\n",
      "1340/1340 [==============================] - 20s 15ms/step - loss: 2.8991e-05\n",
      "Epoch 89/100\n",
      "1340/1340 [==============================] - 20s 15ms/step - loss: 2.8824e-05\n",
      "Epoch 90/100\n",
      "1340/1340 [==============================] - 20s 15ms/step - loss: 2.8660e-05\n",
      "Epoch 91/100\n",
      "1340/1340 [==============================] - 20s 15ms/step - loss: 2.8499e-05\n",
      "Epoch 92/100\n",
      "1340/1340 [==============================] - 20s 15ms/step - loss: 2.8342e-05\n",
      "Epoch 93/100\n",
      "1340/1340 [==============================] - 20s 15ms/step - loss: 2.8187e-05\n",
      "Epoch 94/100\n",
      "1340/1340 [==============================] - 20s 15ms/step - loss: 2.8034e-05\n",
      "Epoch 95/100\n",
      "1340/1340 [==============================] - 20s 15ms/step - loss: 2.7884e-05\n",
      "Epoch 96/100\n",
      "1340/1340 [==============================] - 20s 15ms/step - loss: 2.7737e-05\n",
      "Epoch 97/100\n",
      "1340/1340 [==============================] - 20s 15ms/step - loss: 2.7592e-05\n",
      "Epoch 98/100\n",
      "1340/1340 [==============================] - 20s 15ms/step - loss: 2.7449e-05\n",
      "Epoch 99/100\n",
      "1340/1340 [==============================] - 20s 15ms/step - loss: 2.7308e-05\n",
      "Epoch 100/100\n",
      "1340/1340 [==============================] - 20s 15ms/step - loss: 2.7170e-05\n"
     ]
    },
    {
     "data": {
      "text/plain": [
       "<tensorflow.python.keras.callbacks.History at 0x7f5464972ee0>"
      ]
     },
     "execution_count": 25,
     "metadata": {},
     "output_type": "execute_result"
    }
   ],
   "source": [
    "from keras.layers import Activation, Dense,Dropout\n",
    "model = Sequential()\n",
    "\n",
    "model.add(LSTM(256, return_sequences=True,input_shape=(n_steps_in, n_features)))\n",
    "\n",
    "model.add(LSTM(256))\n",
    "\n",
    "\n",
    "model.add(Dense(1))\n",
    "import keras\n",
    "from keras import optimizers\n",
    "\n",
    "#keras.optimizers.Adam(lr=0.01, beta_1=0.9, beta_2=0.999, epsilon=None, decay=0.0, amsgrad=False, clipnorm=1)\n",
    "\n",
    "model.compile(loss='mean_squared_error', optimizer='adam')\n",
    "model.fit(trainX, trainY, epochs=100, verbose=1,shuffle=False,batch_size=50)\n"
   ]
  },
  {
   "cell_type": "code",
   "execution_count": 26,
   "metadata": {},
   "outputs": [],
   "source": [
    "# make predictions\n",
    "trainPredict = model.predict(trainX)\n",
    "\n"
   ]
  },
  {
   "cell_type": "code",
   "execution_count": 27,
   "metadata": {},
   "outputs": [],
   "source": [
    "testPredict = model.predict(testX)"
   ]
  },
  {
   "cell_type": "code",
   "execution_count": 28,
   "metadata": {},
   "outputs": [
    {
     "data": {
      "text/plain": [
       "((66974, 1), (32986, 1))"
      ]
     },
     "execution_count": 28,
     "metadata": {},
     "output_type": "execute_result"
    }
   ],
   "source": [
    "trainPredict.shape,testPredict.shape"
   ]
  },
  {
   "cell_type": "code",
   "execution_count": 29,
   "metadata": {},
   "outputs": [],
   "source": [
    "def split_y_sequence(sequence, n_steps_in, n_steps_out):\n",
    "    \n",
    "\ty = list()\n",
    "\tfor i in range(len(sequence)):\n",
    "\t\t# find the end of this pattern\n",
    "\t\tend_ix = i + n_steps_in\n",
    "\t\tout_end_ix = end_ix + n_steps_out\n",
    "\t\t# check if we are beyond the sequence\n",
    "\t\tif out_end_ix > len(sequence):\n",
    "\t\t\tbreak\n",
    "\t\t# gather input and output parts of the pattern\n",
    "\t\tseq_y = sequence[end_ix:out_end_ix]\n",
    "\t\t\n",
    "\t\ty.append(seq_y)\n",
    "\treturn array(y)"
   ]
  },
  {
   "cell_type": "code",
   "execution_count": 30,
   "metadata": {},
   "outputs": [
    {
     "data": {
      "text/plain": [
       "((66974, 1), (66974, 1), (32986, 1), (32986, 1))"
      ]
     },
     "execution_count": 30,
     "metadata": {},
     "output_type": "execute_result"
    }
   ],
   "source": [
    "trainPredict.shape,trainY.shape,testPredict.shape,testY.shape"
   ]
  },
  {
   "cell_type": "code",
   "execution_count": 31,
   "metadata": {},
   "outputs": [],
   "source": [
    "#trainpre=split_y_sequence(trainPredict,n_steps_in=3,n_steps_out=1)"
   ]
  },
  {
   "cell_type": "code",
   "execution_count": 32,
   "metadata": {},
   "outputs": [],
   "source": [
    "#testpre=split_y_sequence(testPredict,n_steps_in=3,n_steps_out=1)"
   ]
  },
  {
   "cell_type": "code",
   "execution_count": null,
   "metadata": {},
   "outputs": [],
   "source": []
  },
  {
   "cell_type": "code",
   "execution_count": 33,
   "metadata": {},
   "outputs": [],
   "source": [
    "#trp=trainpre.reshape(len(trainpre),2)\n",
    "#tep=testpre.reshape(len(testpre),2)"
   ]
  },
  {
   "cell_type": "code",
   "execution_count": 34,
   "metadata": {},
   "outputs": [
    {
     "data": {
      "text/plain": [
       "((32986, 1), (32986, 1))"
      ]
     },
     "execution_count": 34,
     "metadata": {},
     "output_type": "execute_result"
    }
   ],
   "source": [
    "testPredict.shape,testY.shape"
   ]
  },
  {
   "cell_type": "code",
   "execution_count": 35,
   "metadata": {},
   "outputs": [],
   "source": [
    "#trp.shape,trainY.shape"
   ]
  },
  {
   "cell_type": "code",
   "execution_count": 36,
   "metadata": {},
   "outputs": [],
   "source": [
    "# invert predictions\n",
    "trainPredict = scaler.inverse_transform(trainPredict)\n",
    "trainY = scaler.inverse_transform(trainY)\n",
    "testPredict = scaler.inverse_transform(testPredict)\n",
    "testY = scaler.inverse_transform(testY)\n"
   ]
  },
  {
   "cell_type": "code",
   "execution_count": 37,
   "metadata": {},
   "outputs": [
    {
     "name": "stdout",
     "output_type": "stream",
     "text": [
      "Train Score: 89.40 RMSE\n",
      "Test Score: 436.10 RMSE\n",
      "                             close     predicted\n",
      "timestamp                                       \n",
      "2020-09-11 12:36:00+05:00  10250.0           NaN\n",
      "2020-09-11 12:35:00+05:00  10250.0           NaN\n",
      "2020-09-11 12:34:00+05:00  10256.0           NaN\n",
      "2020-09-11 12:33:00+05:00  10260.5  10193.082031\n",
      "2020-09-11 12:32:00+05:00  10265.5  10195.665039\n",
      "...                            ...           ...\n",
      "2020-07-04 02:37:00+05:00   9083.5   9668.465820\n",
      "2020-07-04 02:36:00+05:00   9084.0   9668.465820\n",
      "2020-07-04 02:35:00+05:00   9083.5   9668.508789\n",
      "2020-07-04 02:34:00+05:00   9084.0   9668.465820\n",
      "2020-07-04 02:33:00+05:00   9083.5   9668.508789\n",
      "\n",
      "[99966 rows x 2 columns] [3, 89.40484744335058, 436.10262088270076]\n"
     ]
    }
   ],
   "source": [
    "# calculate root mean squared error\n",
    "trainScore = math.sqrt(mean_squared_error(trainY, trainPredict))\n",
    "print('Train Score: %.2f RMSE' % (trainScore))\n",
    "testScore = math.sqrt(mean_squared_error(testY, testPredict))\n",
    "print('Test Score: %.2f RMSE' % (testScore))\n",
    "predictions = numpy.empty_like(dataset)\n",
    "predictions[:, :] = numpy.nan\n",
    "predictions[n_steps_in:len(trainPredict)+n_steps_in, :] = trainPredict\n",
    "predictions[len(trainPredict)+(n_steps_in*2):len(dataset)+2, :] = testPredict\n",
    "#data=pd.DataFrame(numpy.concatenate((trainPredict[0:len(trainPredict)-look_back-1],testPredict[0:len(testPredict)-look_back-1])),columns=[\"predicted\"])\n",
    "#print('one',data.count())\n",
    "#print('two',dataframe.count())\n",
    "predictionsDF=pd.DataFrame(predictions,columns=[\"predicted\"],index=dataframe.index)\n",
    "ans=pd.concat([dataframe,predictionsDF],axis=1)\n",
    "print( ans,[n_steps_in,trainScore,testScore])"
   ]
  },
  {
   "cell_type": "code",
   "execution_count": null,
   "metadata": {},
   "outputs": [],
   "source": []
  },
  {
   "cell_type": "code",
   "execution_count": null,
   "metadata": {},
   "outputs": [],
   "source": []
  },
  {
   "cell_type": "code",
   "execution_count": null,
   "metadata": {},
   "outputs": [],
   "source": []
  }
 ],
 "metadata": {
  "kernelspec": {
   "display_name": "Python 3",
   "language": "python",
   "name": "python3"
  },
  "language_info": {
   "codemirror_mode": {
    "name": "ipython",
    "version": 3
   },
   "file_extension": ".py",
   "mimetype": "text/x-python",
   "name": "python",
   "nbconvert_exporter": "python",
   "pygments_lexer": "ipython3",
   "version": "3.8.3"
  }
 },
 "nbformat": 4,
 "nbformat_minor": 4
}
